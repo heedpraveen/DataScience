{
 "cells": [
  {
   "cell_type": "code",
   "execution_count": 5,
   "metadata": {},
   "outputs": [],
   "source": [
    "import datetime\n",
    "import winsound"
   ]
  },
  {
   "cell_type": "code",
   "execution_count": 37,
   "metadata": {},
   "outputs": [
    {
     "name": "stdout",
     "output_type": "stream",
     "text": [
      "Enter Hour: 11\n",
      "Enter Minute: 47\n"
     ]
    }
   ],
   "source": [
    "hour=int(input(\"Enter Hour: \"))\n",
    "minute=int(input(\"Enter Minute: \"))"
   ]
  },
  {
   "cell_type": "code",
   "execution_count": 39,
   "metadata": {},
   "outputs": [
    {
     "name": "stdout",
     "output_type": "stream",
     "text": [
      "Alarm ON\n"
     ]
    }
   ],
   "source": [
    "while True:\n",
    "    if hour == int(datetime.datetime.now().strftime(\"%H\")) and minute == int(datetime.datetime.now().strftime(\"%M\")):\n",
    "        print(\"Alarm ON\")\n",
    "        winsound.PlaySound(\"file_example_WAV_1MG.wav\",winsound.SND_ASYNC)\n",
    "        break\n",
    "    else:\n",
    "        print(\"Alarm OFF\")\n",
    "        break"
   ]
  },
  {
   "cell_type": "code",
   "execution_count": null,
   "metadata": {},
   "outputs": [],
   "source": []
  }
 ],
 "metadata": {
  "kernelspec": {
   "display_name": "Python 3",
   "language": "python",
   "name": "python3"
  },
  "language_info": {
   "codemirror_mode": {
    "name": "ipython",
    "version": 3
   },
   "file_extension": ".py",
   "mimetype": "text/x-python",
   "name": "python",
   "nbconvert_exporter": "python",
   "pygments_lexer": "ipython3",
   "version": "3.7.1"
  }
 },
 "nbformat": 4,
 "nbformat_minor": 2
}
