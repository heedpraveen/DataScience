{
 "cells": [
  {
   "cell_type": "code",
   "execution_count": 1,
   "metadata": {},
   "outputs": [],
   "source": [
    "###Web scrapping###\n",
    "\n",
    "import requests\n",
    "import pandas as pd"
   ]
  },
  {
   "cell_type": "code",
   "execution_count": 2,
   "metadata": {},
   "outputs": [],
   "source": [
    "url = \"https://www.worldometers.info/coronavirus/#countries\""
   ]
  },
  {
   "cell_type": "code",
   "execution_count": 3,
   "metadata": {},
   "outputs": [],
   "source": [
    "html = requests.get(url).content"
   ]
  },
  {
   "cell_type": "code",
   "execution_count": 4,
   "metadata": {},
   "outputs": [],
   "source": [
    "df_list = pd.read_html(html)"
   ]
  },
  {
   "cell_type": "code",
   "execution_count": 5,
   "metadata": {},
   "outputs": [],
   "source": [
    "df = df_list[-1]"
   ]
  },
  {
   "cell_type": "code",
   "execution_count": 6,
   "metadata": {},
   "outputs": [],
   "source": [
    "df.to_csv('covid.csv', index=False)"
   ]
  },
  {
   "cell_type": "markdown",
   "metadata": {},
   "source": [
    "# EDA"
   ]
  },
  {
   "cell_type": "code",
   "execution_count": 7,
   "metadata": {},
   "outputs": [],
   "source": [
    "df_covid = pd.read_csv('covid.csv')"
   ]
  },
  {
   "cell_type": "code",
   "execution_count": 8,
   "metadata": {},
   "outputs": [],
   "source": [
    "import matplotlib.pyplot as plt"
   ]
  },
  {
   "cell_type": "code",
   "execution_count": 9,
   "metadata": {},
   "outputs": [
    {
     "data": {
      "text/html": [
       "<div>\n",
       "<style scoped>\n",
       "    .dataframe tbody tr th:only-of-type {\n",
       "        vertical-align: middle;\n",
       "    }\n",
       "\n",
       "    .dataframe tbody tr th {\n",
       "        vertical-align: top;\n",
       "    }\n",
       "\n",
       "    .dataframe thead th {\n",
       "        text-align: right;\n",
       "    }\n",
       "</style>\n",
       "<table border=\"1\" class=\"dataframe\">\n",
       "  <thead>\n",
       "    <tr style=\"text-align: right;\">\n",
       "      <th></th>\n",
       "      <th>Country,Other</th>\n",
       "      <th>TotalCases</th>\n",
       "      <th>NewCases</th>\n",
       "      <th>TotalDeaths</th>\n",
       "      <th>NewDeaths</th>\n",
       "      <th>TotalRecovered</th>\n",
       "      <th>ActiveCases</th>\n",
       "      <th>Serious,Critical</th>\n",
       "      <th>Tot Cases/1M pop</th>\n",
       "      <th>Deaths/1M pop</th>\n",
       "      <th>Reported1st case</th>\n",
       "    </tr>\n",
       "  </thead>\n",
       "  <tbody>\n",
       "    <tr>\n",
       "      <th>0</th>\n",
       "      <td>China</td>\n",
       "      <td>81439</td>\n",
       "      <td>+45</td>\n",
       "      <td>3300.0</td>\n",
       "      <td>+5</td>\n",
       "      <td>75448.0</td>\n",
       "      <td>2691</td>\n",
       "      <td>742.0</td>\n",
       "      <td>57.0</td>\n",
       "      <td>2.0</td>\n",
       "      <td>Jan 10</td>\n",
       "    </tr>\n",
       "    <tr>\n",
       "      <th>1</th>\n",
       "      <td>USA</td>\n",
       "      <td>143491</td>\n",
       "      <td>+19,913</td>\n",
       "      <td>2582.0</td>\n",
       "      <td>+362</td>\n",
       "      <td>4559.0</td>\n",
       "      <td>136350</td>\n",
       "      <td>2970.0</td>\n",
       "      <td>434.0</td>\n",
       "      <td>8.0</td>\n",
       "      <td>Jan 20</td>\n",
       "    </tr>\n",
       "    <tr>\n",
       "      <th>2</th>\n",
       "      <td>Italy</td>\n",
       "      <td>97689</td>\n",
       "      <td>+5,217</td>\n",
       "      <td>10779.0</td>\n",
       "      <td>+756</td>\n",
       "      <td>13030.0</td>\n",
       "      <td>73880</td>\n",
       "      <td>3906.0</td>\n",
       "      <td>1616.0</td>\n",
       "      <td>178.0</td>\n",
       "      <td>Jan 29</td>\n",
       "    </tr>\n",
       "    <tr>\n",
       "      <th>3</th>\n",
       "      <td>Spain</td>\n",
       "      <td>80110</td>\n",
       "      <td>+6,875</td>\n",
       "      <td>6803.0</td>\n",
       "      <td>+821</td>\n",
       "      <td>14709.0</td>\n",
       "      <td>58598</td>\n",
       "      <td>4165.0</td>\n",
       "      <td>1713.0</td>\n",
       "      <td>146.0</td>\n",
       "      <td>Jan 30</td>\n",
       "    </tr>\n",
       "    <tr>\n",
       "      <th>4</th>\n",
       "      <td>Germany</td>\n",
       "      <td>62435</td>\n",
       "      <td>+4,740</td>\n",
       "      <td>541.0</td>\n",
       "      <td>+108</td>\n",
       "      <td>9211.0</td>\n",
       "      <td>52683</td>\n",
       "      <td>1979.0</td>\n",
       "      <td>745.0</td>\n",
       "      <td>6.0</td>\n",
       "      <td>Jan 26</td>\n",
       "    </tr>\n",
       "  </tbody>\n",
       "</table>\n",
       "</div>"
      ],
      "text/plain": [
       "  Country,Other  TotalCases NewCases  TotalDeaths NewDeaths  TotalRecovered  \\\n",
       "0         China       81439      +45       3300.0        +5         75448.0   \n",
       "1           USA      143491  +19,913       2582.0      +362          4559.0   \n",
       "2         Italy       97689   +5,217      10779.0      +756         13030.0   \n",
       "3         Spain       80110   +6,875       6803.0      +821         14709.0   \n",
       "4       Germany       62435   +4,740        541.0      +108          9211.0   \n",
       "\n",
       "   ActiveCases  Serious,Critical  Tot Cases/1M pop  Deaths/1M pop  \\\n",
       "0         2691             742.0              57.0            2.0   \n",
       "1       136350            2970.0             434.0            8.0   \n",
       "2        73880            3906.0            1616.0          178.0   \n",
       "3        58598            4165.0            1713.0          146.0   \n",
       "4        52683            1979.0             745.0            6.0   \n",
       "\n",
       "  Reported1st case  \n",
       "0           Jan 10  \n",
       "1           Jan 20  \n",
       "2           Jan 29  \n",
       "3           Jan 30  \n",
       "4           Jan 26  "
      ]
     },
     "execution_count": 9,
     "metadata": {},
     "output_type": "execute_result"
    }
   ],
   "source": [
    "df_covid.head()"
   ]
  },
  {
   "cell_type": "code",
   "execution_count": 10,
   "metadata": {},
   "outputs": [
    {
     "data": {
      "text/plain": [
       "(202, 11)"
      ]
     },
     "execution_count": 10,
     "metadata": {},
     "output_type": "execute_result"
    }
   ],
   "source": [
    "df_covid.shape"
   ]
  },
  {
   "cell_type": "code",
   "execution_count": 11,
   "metadata": {},
   "outputs": [],
   "source": [
    "df_covid.rename(columns = {'Country,Other':'Country',\n",
    "                          'Serious,Critical':'Critical'\n",
    "                          },inplace = True)"
   ]
  },
  {
   "cell_type": "code",
   "execution_count": 12,
   "metadata": {},
   "outputs": [
    {
     "data": {
      "text/html": [
       "<div>\n",
       "<style scoped>\n",
       "    .dataframe tbody tr th:only-of-type {\n",
       "        vertical-align: middle;\n",
       "    }\n",
       "\n",
       "    .dataframe tbody tr th {\n",
       "        vertical-align: top;\n",
       "    }\n",
       "\n",
       "    .dataframe thead th {\n",
       "        text-align: right;\n",
       "    }\n",
       "</style>\n",
       "<table border=\"1\" class=\"dataframe\">\n",
       "  <thead>\n",
       "    <tr style=\"text-align: right;\">\n",
       "      <th></th>\n",
       "      <th>Country</th>\n",
       "      <th>TotalCases</th>\n",
       "      <th>NewCases</th>\n",
       "      <th>TotalDeaths</th>\n",
       "      <th>NewDeaths</th>\n",
       "      <th>TotalRecovered</th>\n",
       "      <th>ActiveCases</th>\n",
       "      <th>Critical</th>\n",
       "      <th>Tot Cases/1M pop</th>\n",
       "      <th>Deaths/1M pop</th>\n",
       "      <th>Reported1st case</th>\n",
       "    </tr>\n",
       "  </thead>\n",
       "  <tbody>\n",
       "    <tr>\n",
       "      <th>0</th>\n",
       "      <td>China</td>\n",
       "      <td>81439</td>\n",
       "      <td>+45</td>\n",
       "      <td>3300.0</td>\n",
       "      <td>+5</td>\n",
       "      <td>75448.0</td>\n",
       "      <td>2691</td>\n",
       "      <td>742.0</td>\n",
       "      <td>57.0</td>\n",
       "      <td>2.0</td>\n",
       "      <td>Jan 10</td>\n",
       "    </tr>\n",
       "    <tr>\n",
       "      <th>1</th>\n",
       "      <td>USA</td>\n",
       "      <td>143491</td>\n",
       "      <td>+19,913</td>\n",
       "      <td>2582.0</td>\n",
       "      <td>+362</td>\n",
       "      <td>4559.0</td>\n",
       "      <td>136350</td>\n",
       "      <td>2970.0</td>\n",
       "      <td>434.0</td>\n",
       "      <td>8.0</td>\n",
       "      <td>Jan 20</td>\n",
       "    </tr>\n",
       "    <tr>\n",
       "      <th>2</th>\n",
       "      <td>Italy</td>\n",
       "      <td>97689</td>\n",
       "      <td>+5,217</td>\n",
       "      <td>10779.0</td>\n",
       "      <td>+756</td>\n",
       "      <td>13030.0</td>\n",
       "      <td>73880</td>\n",
       "      <td>3906.0</td>\n",
       "      <td>1616.0</td>\n",
       "      <td>178.0</td>\n",
       "      <td>Jan 29</td>\n",
       "    </tr>\n",
       "    <tr>\n",
       "      <th>3</th>\n",
       "      <td>Spain</td>\n",
       "      <td>80110</td>\n",
       "      <td>+6,875</td>\n",
       "      <td>6803.0</td>\n",
       "      <td>+821</td>\n",
       "      <td>14709.0</td>\n",
       "      <td>58598</td>\n",
       "      <td>4165.0</td>\n",
       "      <td>1713.0</td>\n",
       "      <td>146.0</td>\n",
       "      <td>Jan 30</td>\n",
       "    </tr>\n",
       "    <tr>\n",
       "      <th>4</th>\n",
       "      <td>Germany</td>\n",
       "      <td>62435</td>\n",
       "      <td>+4,740</td>\n",
       "      <td>541.0</td>\n",
       "      <td>+108</td>\n",
       "      <td>9211.0</td>\n",
       "      <td>52683</td>\n",
       "      <td>1979.0</td>\n",
       "      <td>745.0</td>\n",
       "      <td>6.0</td>\n",
       "      <td>Jan 26</td>\n",
       "    </tr>\n",
       "  </tbody>\n",
       "</table>\n",
       "</div>"
      ],
      "text/plain": [
       "   Country  TotalCases NewCases  TotalDeaths NewDeaths  TotalRecovered  \\\n",
       "0    China       81439      +45       3300.0        +5         75448.0   \n",
       "1      USA      143491  +19,913       2582.0      +362          4559.0   \n",
       "2    Italy       97689   +5,217      10779.0      +756         13030.0   \n",
       "3    Spain       80110   +6,875       6803.0      +821         14709.0   \n",
       "4  Germany       62435   +4,740        541.0      +108          9211.0   \n",
       "\n",
       "   ActiveCases  Critical  Tot Cases/1M pop  Deaths/1M pop Reported1st case  \n",
       "0         2691     742.0              57.0            2.0           Jan 10  \n",
       "1       136350    2970.0             434.0            8.0           Jan 20  \n",
       "2        73880    3906.0            1616.0          178.0           Jan 29  \n",
       "3        58598    4165.0            1713.0          146.0           Jan 30  \n",
       "4        52683    1979.0             745.0            6.0           Jan 26  "
      ]
     },
     "execution_count": 12,
     "metadata": {},
     "output_type": "execute_result"
    }
   ],
   "source": [
    "df_covid.head()"
   ]
  },
  {
   "cell_type": "markdown",
   "metadata": {},
   "source": [
    "Total number of countries "
   ]
  },
  {
   "cell_type": "code",
   "execution_count": 13,
   "metadata": {},
   "outputs": [
    {
     "data": {
      "text/plain": [
       "202"
      ]
     },
     "execution_count": 13,
     "metadata": {},
     "output_type": "execute_result"
    }
   ],
   "source": [
    "df_covid.Country.count()"
   ]
  },
  {
   "cell_type": "markdown",
   "metadata": {},
   "source": [
    "Total cases all over the world"
   ]
  },
  {
   "cell_type": "code",
   "execution_count": 14,
   "metadata": {},
   "outputs": [
    {
     "data": {
      "text/plain": [
       "201    723390\n",
       "Name: TotalCases, dtype: int64"
      ]
     },
     "execution_count": 14,
     "metadata": {},
     "output_type": "execute_result"
    }
   ],
   "source": [
    "df_covid['TotalCases'][-1:]"
   ]
  },
  {
   "cell_type": "markdown",
   "metadata": {},
   "source": [
    "Total recover cases all over the world"
   ]
  },
  {
   "cell_type": "code",
   "execution_count": 15,
   "metadata": {},
   "outputs": [
    {
     "data": {
      "text/plain": [
       "201    151312.0\n",
       "Name: TotalRecovered, dtype: float64"
      ]
     },
     "execution_count": 15,
     "metadata": {},
     "output_type": "execute_result"
    }
   ],
   "source": [
    "df_covid.TotalRecovered[-1:]"
   ]
  },
  {
   "cell_type": "markdown",
   "metadata": {},
   "source": [
    "Total deaths all over world"
   ]
  },
  {
   "cell_type": "code",
   "execution_count": 16,
   "metadata": {},
   "outputs": [
    {
     "data": {
      "text/plain": [
       "201    34064.0\n",
       "Name: TotalDeaths, dtype: float64"
      ]
     },
     "execution_count": 16,
     "metadata": {},
     "output_type": "execute_result"
    }
   ],
   "source": [
    "df_covid.TotalDeaths[-1:]"
   ]
  },
  {
   "cell_type": "markdown",
   "metadata": {},
   "source": [
    "# COUNTRY VS TOTALDEATH"
   ]
  },
  {
   "cell_type": "code",
   "execution_count": 17,
   "metadata": {},
   "outputs": [],
   "source": [
    "death = df_covid.sort_values(by = 'TotalDeaths', ascending = False).head(30).iloc[1:]"
   ]
  },
  {
   "cell_type": "code",
   "execution_count": 18,
   "metadata": {},
   "outputs": [
    {
     "data": {
      "text/html": [
       "<div>\n",
       "<style scoped>\n",
       "    .dataframe tbody tr th:only-of-type {\n",
       "        vertical-align: middle;\n",
       "    }\n",
       "\n",
       "    .dataframe tbody tr th {\n",
       "        vertical-align: top;\n",
       "    }\n",
       "\n",
       "    .dataframe thead th {\n",
       "        text-align: right;\n",
       "    }\n",
       "</style>\n",
       "<table border=\"1\" class=\"dataframe\">\n",
       "  <thead>\n",
       "    <tr style=\"text-align: right;\">\n",
       "      <th></th>\n",
       "      <th>Country</th>\n",
       "      <th>TotalCases</th>\n",
       "      <th>NewCases</th>\n",
       "      <th>TotalDeaths</th>\n",
       "      <th>NewDeaths</th>\n",
       "      <th>TotalRecovered</th>\n",
       "      <th>ActiveCases</th>\n",
       "      <th>Critical</th>\n",
       "      <th>Tot Cases/1M pop</th>\n",
       "      <th>Deaths/1M pop</th>\n",
       "      <th>Reported1st case</th>\n",
       "    </tr>\n",
       "  </thead>\n",
       "  <tbody>\n",
       "    <tr>\n",
       "      <th>2</th>\n",
       "      <td>Italy</td>\n",
       "      <td>97689</td>\n",
       "      <td>+5,217</td>\n",
       "      <td>10779.0</td>\n",
       "      <td>+756</td>\n",
       "      <td>13030.0</td>\n",
       "      <td>73880</td>\n",
       "      <td>3906.0</td>\n",
       "      <td>1616.0</td>\n",
       "      <td>178.0</td>\n",
       "      <td>Jan 29</td>\n",
       "    </tr>\n",
       "    <tr>\n",
       "      <th>3</th>\n",
       "      <td>Spain</td>\n",
       "      <td>80110</td>\n",
       "      <td>+6,875</td>\n",
       "      <td>6803.0</td>\n",
       "      <td>+821</td>\n",
       "      <td>14709.0</td>\n",
       "      <td>58598</td>\n",
       "      <td>4165.0</td>\n",
       "      <td>1713.0</td>\n",
       "      <td>146.0</td>\n",
       "      <td>Jan 30</td>\n",
       "    </tr>\n",
       "    <tr>\n",
       "      <th>0</th>\n",
       "      <td>China</td>\n",
       "      <td>81439</td>\n",
       "      <td>+45</td>\n",
       "      <td>3300.0</td>\n",
       "      <td>+5</td>\n",
       "      <td>75448.0</td>\n",
       "      <td>2691</td>\n",
       "      <td>742.0</td>\n",
       "      <td>57.0</td>\n",
       "      <td>2.0</td>\n",
       "      <td>Jan 10</td>\n",
       "    </tr>\n",
       "    <tr>\n",
       "      <th>6</th>\n",
       "      <td>Iran</td>\n",
       "      <td>38309</td>\n",
       "      <td>+2,901</td>\n",
       "      <td>2640.0</td>\n",
       "      <td>+123</td>\n",
       "      <td>12391.0</td>\n",
       "      <td>23278</td>\n",
       "      <td>3206.0</td>\n",
       "      <td>456.0</td>\n",
       "      <td>31.0</td>\n",
       "      <td>Feb 18</td>\n",
       "    </tr>\n",
       "    <tr>\n",
       "      <th>5</th>\n",
       "      <td>France</td>\n",
       "      <td>40174</td>\n",
       "      <td>+2,599</td>\n",
       "      <td>2606.0</td>\n",
       "      <td>+292</td>\n",
       "      <td>7202.0</td>\n",
       "      <td>30366</td>\n",
       "      <td>4632.0</td>\n",
       "      <td>615.0</td>\n",
       "      <td>40.0</td>\n",
       "      <td>Jan 23</td>\n",
       "    </tr>\n",
       "  </tbody>\n",
       "</table>\n",
       "</div>"
      ],
      "text/plain": [
       "  Country  TotalCases NewCases  TotalDeaths NewDeaths  TotalRecovered  \\\n",
       "2   Italy       97689   +5,217      10779.0      +756         13030.0   \n",
       "3   Spain       80110   +6,875       6803.0      +821         14709.0   \n",
       "0   China       81439      +45       3300.0        +5         75448.0   \n",
       "6    Iran       38309   +2,901       2640.0      +123         12391.0   \n",
       "5  France       40174   +2,599       2606.0      +292          7202.0   \n",
       "\n",
       "   ActiveCases  Critical  Tot Cases/1M pop  Deaths/1M pop Reported1st case  \n",
       "2        73880    3906.0            1616.0          178.0           Jan 29  \n",
       "3        58598    4165.0            1713.0          146.0           Jan 30  \n",
       "0         2691     742.0              57.0            2.0           Jan 10  \n",
       "6        23278    3206.0             456.0           31.0           Feb 18  \n",
       "5        30366    4632.0             615.0           40.0           Jan 23  "
      ]
     },
     "execution_count": 18,
     "metadata": {},
     "output_type": "execute_result"
    }
   ],
   "source": [
    "death.head()"
   ]
  },
  {
   "cell_type": "code",
   "execution_count": 19,
   "metadata": {},
   "outputs": [
    {
     "data": {
      "image/png": "[encoded data removed]",
      "text/plain": [
       "<Figure size 792x432 with 1 Axes>"
      ]
     },
     "metadata": {
      "needs_background": "light"
     },
     "output_type": "display_data"
    }
   ],
   "source": [
    "plt.figure(figsize=(11,6))\n",
    "plt.plot(death['Country'],death['TotalDeaths'])\n",
    "degree = 80\n",
    "plt.xticks(rotation=degree)\n",
    "plt.legend()\n",
    "plt.xlabel('Country')\n",
    "plt.title('Country vs TotalDeath')\n",
    "plt.annotate(10779, \n",
    "             xy=('Italy', 10779),\n",
    "             xytext = ('Spain',10779),\n",
    "              arrowprops={'arrowstyle': '-|>'},\n",
    "             va = 'center'\n",
    "             ) \n",
    "plt.annotate(6803, \n",
    "             xy=('Spain', 6803),\n",
    "             xytext = ('China', 6803),\n",
    "              arrowprops={'arrowstyle': '-|>'},\n",
    "             va = 'center'\n",
    "             ) \n",
    "plt.annotate(3300, \n",
    "             xy=('China', 3300),\n",
    "             xytext = ('Iran', 3300),\n",
    "              arrowprops={'arrowstyle': '-|>'},\n",
    "             va = 'center'\n",
    "             ) \n",
    "plt.show()"
   ]
  },
  {
   "cell_type": "markdown",
   "metadata": {},
   "source": [
    "# COUNTRY VS TOTALCASES"
   ]
  },
  {
   "cell_type": "code",
   "execution_count": 20,
   "metadata": {},
   "outputs": [],
   "source": [
    "case = df_covid.sort_values(by = 'TotalCases', ascending = False).head(30).iloc[1:]"
   ]
  },
  {
   "cell_type": "code",
   "execution_count": 21,
   "metadata": {},
   "outputs": [
    {
     "data": {
      "text/html": [
       "<div>\n",
       "<style scoped>\n",
       "    .dataframe tbody tr th:only-of-type {\n",
       "        vertical-align: middle;\n",
       "    }\n",
       "\n",
       "    .dataframe tbody tr th {\n",
       "        vertical-align: top;\n",
       "    }\n",
       "\n",
       "    .dataframe thead th {\n",
       "        text-align: right;\n",
       "    }\n",
       "</style>\n",
       "<table border=\"1\" class=\"dataframe\">\n",
       "  <thead>\n",
       "    <tr style=\"text-align: right;\">\n",
       "      <th></th>\n",
       "      <th>Country</th>\n",
       "      <th>TotalCases</th>\n",
       "      <th>NewCases</th>\n",
       "      <th>TotalDeaths</th>\n",
       "      <th>NewDeaths</th>\n",
       "      <th>TotalRecovered</th>\n",
       "      <th>ActiveCases</th>\n",
       "      <th>Critical</th>\n",
       "      <th>Tot Cases/1M pop</th>\n",
       "      <th>Deaths/1M pop</th>\n",
       "      <th>Reported1st case</th>\n",
       "    </tr>\n",
       "  </thead>\n",
       "  <tbody>\n",
       "    <tr>\n",
       "      <th>1</th>\n",
       "      <td>USA</td>\n",
       "      <td>143491</td>\n",
       "      <td>+19,913</td>\n",
       "      <td>2582.0</td>\n",
       "      <td>+362</td>\n",
       "      <td>4559.0</td>\n",
       "      <td>136350</td>\n",
       "      <td>2970.0</td>\n",
       "      <td>434.0</td>\n",
       "      <td>8.0</td>\n",
       "      <td>Jan 20</td>\n",
       "    </tr>\n",
       "    <tr>\n",
       "      <th>2</th>\n",
       "      <td>Italy</td>\n",
       "      <td>97689</td>\n",
       "      <td>+5,217</td>\n",
       "      <td>10779.0</td>\n",
       "      <td>+756</td>\n",
       "      <td>13030.0</td>\n",
       "      <td>73880</td>\n",
       "      <td>3906.0</td>\n",
       "      <td>1616.0</td>\n",
       "      <td>178.0</td>\n",
       "      <td>Jan 29</td>\n",
       "    </tr>\n",
       "    <tr>\n",
       "      <th>0</th>\n",
       "      <td>China</td>\n",
       "      <td>81439</td>\n",
       "      <td>+45</td>\n",
       "      <td>3300.0</td>\n",
       "      <td>+5</td>\n",
       "      <td>75448.0</td>\n",
       "      <td>2691</td>\n",
       "      <td>742.0</td>\n",
       "      <td>57.0</td>\n",
       "      <td>2.0</td>\n",
       "      <td>Jan 10</td>\n",
       "    </tr>\n",
       "    <tr>\n",
       "      <th>3</th>\n",
       "      <td>Spain</td>\n",
       "      <td>80110</td>\n",
       "      <td>+6,875</td>\n",
       "      <td>6803.0</td>\n",
       "      <td>+821</td>\n",
       "      <td>14709.0</td>\n",
       "      <td>58598</td>\n",
       "      <td>4165.0</td>\n",
       "      <td>1713.0</td>\n",
       "      <td>146.0</td>\n",
       "      <td>Jan 30</td>\n",
       "    </tr>\n",
       "    <tr>\n",
       "      <th>4</th>\n",
       "      <td>Germany</td>\n",
       "      <td>62435</td>\n",
       "      <td>+4,740</td>\n",
       "      <td>541.0</td>\n",
       "      <td>+108</td>\n",
       "      <td>9211.0</td>\n",
       "      <td>52683</td>\n",
       "      <td>1979.0</td>\n",
       "      <td>745.0</td>\n",
       "      <td>6.0</td>\n",
       "      <td>Jan 26</td>\n",
       "    </tr>\n",
       "  </tbody>\n",
       "</table>\n",
       "</div>"
      ],
      "text/plain": [
       "   Country  TotalCases NewCases  TotalDeaths NewDeaths  TotalRecovered  \\\n",
       "1      USA      143491  +19,913       2582.0      +362          4559.0   \n",
       "2    Italy       97689   +5,217      10779.0      +756         13030.0   \n",
       "0    China       81439      +45       3300.0        +5         75448.0   \n",
       "3    Spain       80110   +6,875       6803.0      +821         14709.0   \n",
       "4  Germany       62435   +4,740        541.0      +108          9211.0   \n",
       "\n",
       "   ActiveCases  Critical  Tot Cases/1M pop  Deaths/1M pop Reported1st case  \n",
       "1       136350    2970.0             434.0            8.0           Jan 20  \n",
       "2        73880    3906.0            1616.0          178.0           Jan 29  \n",
       "0         2691     742.0              57.0            2.0           Jan 10  \n",
       "3        58598    4165.0            1713.0          146.0           Jan 30  \n",
       "4        52683    1979.0             745.0            6.0           Jan 26  "
      ]
     },
     "execution_count": 21,
     "metadata": {},
     "output_type": "execute_result"
    }
   ],
   "source": [
    "case.head()"
   ]
  },
  {
   "cell_type": "code",
   "execution_count": 22,
   "metadata": {},
   "outputs": [
    {
     "data": {
      "image/png": "[encoded data removed]",
      "text/plain": [
       "<Figure size 792x432 with 1 Axes>"
      ]
     },
     "metadata": {
      "needs_background": "light"
     },
     "output_type": "display_data"
    }
   ],
   "source": [
    "plt.figure(figsize=(11,6))\n",
    "plt.plot(case['Country'],case['TotalCases'])\n",
    "degree = 80\n",
    "plt.xticks(rotation=degree)\n",
    "plt.legend()\n",
    "plt.xlabel('Country')\n",
    "plt.annotate(97689, \n",
    "             xy=('Italy', 97689),\n",
    "             xytext = ('China',97689),\n",
    "              arrowprops={'arrowstyle': '-|>'},\n",
    "             va = 'center'\n",
    "             ) \n",
    "plt.annotate(143491, \n",
    "             xy=('USA', 143491),\n",
    "             xytext = ('Italy', 143491),\n",
    "              arrowprops={'arrowstyle': '-|>'},\n",
    "             va = 'center'\n",
    "             ) \n",
    "plt.annotate(81439, \n",
    "             xy=('China', 81439),\n",
    "             xytext = ('Spain', 81439),\n",
    "              arrowprops={'arrowstyle': '-|>'},\n",
    "             va = 'center'\n",
    "             ) \n",
    "plt.show()"
   ]
  },
  {
   "cell_type": "markdown",
   "metadata": {},
   "source": [
    "# COUNTRY VS TOTALRECOVERED"
   ]
  },
  {
   "cell_type": "code",
   "execution_count": 23,
   "metadata": {},
   "outputs": [],
   "source": [
    "recover = df_covid.sort_values(by = 'TotalRecovered', ascending = False).head(30).iloc[1:]"
   ]
  },
  {
   "cell_type": "code",
   "execution_count": 24,
   "metadata": {},
   "outputs": [
    {
     "data": {
      "text/html": [
       "<div>\n",
       "<style scoped>\n",
       "    .dataframe tbody tr th:only-of-type {\n",
       "        vertical-align: middle;\n",
       "    }\n",
       "\n",
       "    .dataframe tbody tr th {\n",
       "        vertical-align: top;\n",
       "    }\n",
       "\n",
       "    .dataframe thead th {\n",
       "        text-align: right;\n",
       "    }\n",
       "</style>\n",
       "<table border=\"1\" class=\"dataframe\">\n",
       "  <thead>\n",
       "    <tr style=\"text-align: right;\">\n",
       "      <th></th>\n",
       "      <th>Country</th>\n",
       "      <th>TotalCases</th>\n",
       "      <th>NewCases</th>\n",
       "      <th>TotalDeaths</th>\n",
       "      <th>NewDeaths</th>\n",
       "      <th>TotalRecovered</th>\n",
       "      <th>ActiveCases</th>\n",
       "      <th>Critical</th>\n",
       "      <th>Tot Cases/1M pop</th>\n",
       "      <th>Deaths/1M pop</th>\n",
       "      <th>Reported1st case</th>\n",
       "    </tr>\n",
       "  </thead>\n",
       "  <tbody>\n",
       "    <tr>\n",
       "      <th>0</th>\n",
       "      <td>China</td>\n",
       "      <td>81439</td>\n",
       "      <td>+45</td>\n",
       "      <td>3300.0</td>\n",
       "      <td>+5</td>\n",
       "      <td>75448.0</td>\n",
       "      <td>2691</td>\n",
       "      <td>742.0</td>\n",
       "      <td>57.0</td>\n",
       "      <td>2.0</td>\n",
       "      <td>Jan 10</td>\n",
       "    </tr>\n",
       "    <tr>\n",
       "      <th>3</th>\n",
       "      <td>Spain</td>\n",
       "      <td>80110</td>\n",
       "      <td>+6,875</td>\n",
       "      <td>6803.0</td>\n",
       "      <td>+821</td>\n",
       "      <td>14709.0</td>\n",
       "      <td>58598</td>\n",
       "      <td>4165.0</td>\n",
       "      <td>1713.0</td>\n",
       "      <td>146.0</td>\n",
       "      <td>Jan 30</td>\n",
       "    </tr>\n",
       "    <tr>\n",
       "      <th>2</th>\n",
       "      <td>Italy</td>\n",
       "      <td>97689</td>\n",
       "      <td>+5,217</td>\n",
       "      <td>10779.0</td>\n",
       "      <td>+756</td>\n",
       "      <td>13030.0</td>\n",
       "      <td>73880</td>\n",
       "      <td>3906.0</td>\n",
       "      <td>1616.0</td>\n",
       "      <td>178.0</td>\n",
       "      <td>Jan 29</td>\n",
       "    </tr>\n",
       "    <tr>\n",
       "      <th>6</th>\n",
       "      <td>Iran</td>\n",
       "      <td>38309</td>\n",
       "      <td>+2,901</td>\n",
       "      <td>2640.0</td>\n",
       "      <td>+123</td>\n",
       "      <td>12391.0</td>\n",
       "      <td>23278</td>\n",
       "      <td>3206.0</td>\n",
       "      <td>456.0</td>\n",
       "      <td>31.0</td>\n",
       "      <td>Feb 18</td>\n",
       "    </tr>\n",
       "    <tr>\n",
       "      <th>4</th>\n",
       "      <td>Germany</td>\n",
       "      <td>62435</td>\n",
       "      <td>+4,740</td>\n",
       "      <td>541.0</td>\n",
       "      <td>+108</td>\n",
       "      <td>9211.0</td>\n",
       "      <td>52683</td>\n",
       "      <td>1979.0</td>\n",
       "      <td>745.0</td>\n",
       "      <td>6.0</td>\n",
       "      <td>Jan 26</td>\n",
       "    </tr>\n",
       "  </tbody>\n",
       "</table>\n",
       "</div>"
      ],
      "text/plain": [
       "   Country  TotalCases NewCases  TotalDeaths NewDeaths  TotalRecovered  \\\n",
       "0    China       81439      +45       3300.0        +5         75448.0   \n",
       "3    Spain       80110   +6,875       6803.0      +821         14709.0   \n",
       "2    Italy       97689   +5,217      10779.0      +756         13030.0   \n",
       "6     Iran       38309   +2,901       2640.0      +123         12391.0   \n",
       "4  Germany       62435   +4,740        541.0      +108          9211.0   \n",
       "\n",
       "   ActiveCases  Critical  Tot Cases/1M pop  Deaths/1M pop Reported1st case  \n",
       "0         2691     742.0              57.0            2.0           Jan 10  \n",
       "3        58598    4165.0            1713.0          146.0           Jan 30  \n",
       "2        73880    3906.0            1616.0          178.0           Jan 29  \n",
       "6        23278    3206.0             456.0           31.0           Feb 18  \n",
       "4        52683    1979.0             745.0            6.0           Jan 26  "
      ]
     },
     "execution_count": 24,
     "metadata": {},
     "output_type": "execute_result"
    }
   ],
   "source": [
    "recover.head()"
   ]
  },
  {
   "cell_type": "code",
   "execution_count": 26,
   "metadata": {},
   "outputs": [
    {
     "data": {
      "image/png": "[encoded data removed]",
      "text/plain": [
       "<Figure size 792x432 with 1 Axes>"
      ]
     },
     "metadata": {
      "needs_background": "light"
     },
     "output_type": "display_data"
    }
   ],
   "source": [
    "plt.figure(figsize=(11,6))\n",
    "plt.plot(recover['Country'],recover['TotalRecovered'])\n",
    "degree = 80\n",
    "plt.xticks(rotation=degree)\n",
    "plt.legend()\n",
    "plt.xlabel('Country')\n",
    "plt.title('Country vs TotalRecovered')\n",
    "plt.annotate(14709, \n",
    "             xy=('Spain', 14709),\n",
    "             xytext = ('Italy',16009),\n",
    "              arrowprops={'arrowstyle': '-|>'},\n",
    "             va = 'center'\n",
    "             ) \n",
    "plt.annotate(13030, \n",
    "             xy=('Italy', 13030),\n",
    "             xytext = ('Iran', 13030),\n",
    "              arrowprops={'arrowstyle': '-|>'},\n",
    "             va = 'center'\n",
    "             ) \n",
    "plt.annotate(75448, \n",
    "             xy=('China', 75448),\n",
    "             xytext = ('Spain', 75448),\n",
    "              arrowprops={'arrowstyle': '-|>'},\n",
    "             va = 'center'\n",
    "             ) \n",
    "plt.show()"
   ]
  },
  {
   "cell_type": "code",
   "execution_count": null,
   "metadata": {},
   "outputs": [],
   "source": []
  }
 ],
 "metadata": {
  "kernelspec": {
   "display_name": "Python 3",
   "language": "python",
   "name": "python3"
  },
  "language_info": {
   "codemirror_mode": {
    "name": "ipython",
    "version": 3
   },
   "file_extension": ".py",
   "mimetype": "text/x-python",
   "name": "python",
   "nbconvert_exporter": "python",
   "pygments_lexer": "ipython3",
   "version": "3.7.1"
  }
 },
 "nbformat": 4,
 "nbformat_minor": 2
}
