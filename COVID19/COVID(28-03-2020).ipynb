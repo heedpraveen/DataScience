{
 "cells": [
  {
   "cell_type": "code",
   "execution_count": 1,
   "metadata": {},
   "outputs": [],
   "source": [
    "###Web scrapping###\n",
    "\n",
    "import requests\n",
    "import pandas as pd"
   ]
  },
  {
   "cell_type": "code",
   "execution_count": 2,
   "metadata": {},
   "outputs": [],
   "source": [
    "url = \"https://www.worldometers.info/coronavirus/#countries\""
   ]
  },
  {
   "cell_type": "code",
   "execution_count": 3,
   "metadata": {},
   "outputs": [],
   "source": [
    "html = requests.get(url).content"
   ]
  },
  {
   "cell_type": "code",
   "execution_count": 4,
   "metadata": {},
   "outputs": [],
   "source": [
    "df_list = pd.read_html(html)"
   ]
  },
  {
   "cell_type": "code",
   "execution_count": 5,
   "metadata": {},
   "outputs": [],
   "source": [
    "df = df_list[-1]"
   ]
  },
  {
   "cell_type": "code",
   "execution_count": 6,
   "metadata": {},
   "outputs": [],
   "source": [
    "df.to_csv('covid.csv', index=False)"
   ]
  },
  {
   "cell_type": "code",
   "execution_count": null,
   "metadata": {},
   "outputs": [],
   "source": []
  },
  {
   "cell_type": "markdown",
   "metadata": {},
   "source": [
    "# EDA"
   ]
  },
  {
   "cell_type": "code",
   "execution_count": 7,
   "metadata": {},
   "outputs": [],
   "source": [
    "df_covid = pd.read_csv('covid.csv')"
   ]
  },
  {
   "cell_type": "code",
   "execution_count": 8,
   "metadata": {},
   "outputs": [],
   "source": [
    "import matplotlib.pyplot as plt"
   ]
  },
  {
   "cell_type": "code",
   "execution_count": 9,
   "metadata": {},
   "outputs": [
    {
     "data": {
      "text/html": [
       "<div>\n",
       "<style scoped>\n",
       "    .dataframe tbody tr th:only-of-type {\n",
       "        vertical-align: middle;\n",
       "    }\n",
       "\n",
       "    .dataframe tbody tr th {\n",
       "        vertical-align: top;\n",
       "    }\n",
       "\n",
       "    .dataframe thead th {\n",
       "        text-align: right;\n",
       "    }\n",
       "</style>\n",
       "<table border=\"1\" class=\"dataframe\">\n",
       "  <thead>\n",
       "    <tr style=\"text-align: right;\">\n",
       "      <th></th>\n",
       "      <th>Country,Other</th>\n",
       "      <th>TotalCases</th>\n",
       "      <th>NewCases</th>\n",
       "      <th>TotalDeaths</th>\n",
       "      <th>NewDeaths</th>\n",
       "      <th>TotalRecovered</th>\n",
       "      <th>ActiveCases</th>\n",
       "      <th>Serious,Critical</th>\n",
       "      <th>Tot Cases/1M pop</th>\n",
       "      <th>Deaths/1M pop</th>\n",
       "      <th>1stcase</th>\n",
       "    </tr>\n",
       "  </thead>\n",
       "  <tbody>\n",
       "    <tr>\n",
       "      <th>0</th>\n",
       "      <td>China</td>\n",
       "      <td>81340</td>\n",
       "      <td>+55</td>\n",
       "      <td>3292.0</td>\n",
       "      <td>+5</td>\n",
       "      <td>74588.0</td>\n",
       "      <td>3460</td>\n",
       "      <td>1034.0</td>\n",
       "      <td>57.0</td>\n",
       "      <td>2.0</td>\n",
       "      <td>Jan 10</td>\n",
       "    </tr>\n",
       "    <tr>\n",
       "      <th>1</th>\n",
       "      <td>USA</td>\n",
       "      <td>104126</td>\n",
       "      <td>+18,691</td>\n",
       "      <td>1696.0</td>\n",
       "      <td>+401</td>\n",
       "      <td>2522.0</td>\n",
       "      <td>99908</td>\n",
       "      <td>2463.0</td>\n",
       "      <td>315.0</td>\n",
       "      <td>5.0</td>\n",
       "      <td>Jan 20</td>\n",
       "    </tr>\n",
       "    <tr>\n",
       "      <th>2</th>\n",
       "      <td>Italy</td>\n",
       "      <td>86498</td>\n",
       "      <td>+5,909</td>\n",
       "      <td>9134.0</td>\n",
       "      <td>+919</td>\n",
       "      <td>10950.0</td>\n",
       "      <td>66414</td>\n",
       "      <td>3732.0</td>\n",
       "      <td>1431.0</td>\n",
       "      <td>151.0</td>\n",
       "      <td>Jan 29</td>\n",
       "    </tr>\n",
       "    <tr>\n",
       "      <th>3</th>\n",
       "      <td>Spain</td>\n",
       "      <td>65719</td>\n",
       "      <td>+7,933</td>\n",
       "      <td>5138.0</td>\n",
       "      <td>+773</td>\n",
       "      <td>9357.0</td>\n",
       "      <td>51224</td>\n",
       "      <td>4165.0</td>\n",
       "      <td>1406.0</td>\n",
       "      <td>110.0</td>\n",
       "      <td>Jan 30</td>\n",
       "    </tr>\n",
       "    <tr>\n",
       "      <th>4</th>\n",
       "      <td>Germany</td>\n",
       "      <td>50871</td>\n",
       "      <td>+6,933</td>\n",
       "      <td>351.0</td>\n",
       "      <td>+84</td>\n",
       "      <td>6658.0</td>\n",
       "      <td>43862</td>\n",
       "      <td>1581.0</td>\n",
       "      <td>607.0</td>\n",
       "      <td>4.0</td>\n",
       "      <td>Jan 26</td>\n",
       "    </tr>\n",
       "  </tbody>\n",
       "</table>\n",
       "</div>"
      ],
      "text/plain": [
       "  Country,Other  TotalCases NewCases  TotalDeaths NewDeaths  TotalRecovered  \\\n",
       "0         China       81340      +55       3292.0        +5         74588.0   \n",
       "1           USA      104126  +18,691       1696.0      +401          2522.0   \n",
       "2         Italy       86498   +5,909       9134.0      +919         10950.0   \n",
       "3         Spain       65719   +7,933       5138.0      +773          9357.0   \n",
       "4       Germany       50871   +6,933        351.0       +84          6658.0   \n",
       "\n",
       "   ActiveCases  Serious,Critical  Tot Cases/1M pop  Deaths/1M pop 1stcase  \n",
       "0         3460            1034.0              57.0            2.0  Jan 10  \n",
       "1        99908            2463.0             315.0            5.0  Jan 20  \n",
       "2        66414            3732.0            1431.0          151.0  Jan 29  \n",
       "3        51224            4165.0            1406.0          110.0  Jan 30  \n",
       "4        43862            1581.0             607.0            4.0  Jan 26  "
      ]
     },
     "execution_count": 9,
     "metadata": {},
     "output_type": "execute_result"
    }
   ],
   "source": [
    "df_covid.head()"
   ]
  },
  {
   "cell_type": "code",
   "execution_count": 10,
   "metadata": {},
   "outputs": [
    {
     "data": {
      "text/plain": [
       "(202, 11)"
      ]
     },
     "execution_count": 10,
     "metadata": {},
     "output_type": "execute_result"
    }
   ],
   "source": [
    "df_covid.shape"
   ]
  },
  {
   "cell_type": "code",
   "execution_count": 11,
   "metadata": {},
   "outputs": [],
   "source": [
    "df_covid.rename(columns = {'Country,Other':'Country',\n",
    "                          'Serious,Critical':'Critical'\n",
    "                          },inplace = True)"
   ]
  },
  {
   "cell_type": "code",
   "execution_count": 12,
   "metadata": {},
   "outputs": [
    {
     "data": {
      "text/html": [
       "<div>\n",
       "<style scoped>\n",
       "    .dataframe tbody tr th:only-of-type {\n",
       "        vertical-align: middle;\n",
       "    }\n",
       "\n",
       "    .dataframe tbody tr th {\n",
       "        vertical-align: top;\n",
       "    }\n",
       "\n",
       "    .dataframe thead th {\n",
       "        text-align: right;\n",
       "    }\n",
       "</style>\n",
       "<table border=\"1\" class=\"dataframe\">\n",
       "  <thead>\n",
       "    <tr style=\"text-align: right;\">\n",
       "      <th></th>\n",
       "      <th>Country</th>\n",
       "      <th>TotalCases</th>\n",
       "      <th>NewCases</th>\n",
       "      <th>TotalDeaths</th>\n",
       "      <th>NewDeaths</th>\n",
       "      <th>TotalRecovered</th>\n",
       "      <th>ActiveCases</th>\n",
       "      <th>Critical</th>\n",
       "      <th>Tot Cases/1M pop</th>\n",
       "      <th>Deaths/1M pop</th>\n",
       "      <th>1stcase</th>\n",
       "    </tr>\n",
       "  </thead>\n",
       "  <tbody>\n",
       "    <tr>\n",
       "      <th>0</th>\n",
       "      <td>China</td>\n",
       "      <td>81340</td>\n",
       "      <td>+55</td>\n",
       "      <td>3292.0</td>\n",
       "      <td>+5</td>\n",
       "      <td>74588.0</td>\n",
       "      <td>3460</td>\n",
       "      <td>1034.0</td>\n",
       "      <td>57.0</td>\n",
       "      <td>2.0</td>\n",
       "      <td>Jan 10</td>\n",
       "    </tr>\n",
       "    <tr>\n",
       "      <th>1</th>\n",
       "      <td>USA</td>\n",
       "      <td>104126</td>\n",
       "      <td>+18,691</td>\n",
       "      <td>1696.0</td>\n",
       "      <td>+401</td>\n",
       "      <td>2522.0</td>\n",
       "      <td>99908</td>\n",
       "      <td>2463.0</td>\n",
       "      <td>315.0</td>\n",
       "      <td>5.0</td>\n",
       "      <td>Jan 20</td>\n",
       "    </tr>\n",
       "    <tr>\n",
       "      <th>2</th>\n",
       "      <td>Italy</td>\n",
       "      <td>86498</td>\n",
       "      <td>+5,909</td>\n",
       "      <td>9134.0</td>\n",
       "      <td>+919</td>\n",
       "      <td>10950.0</td>\n",
       "      <td>66414</td>\n",
       "      <td>3732.0</td>\n",
       "      <td>1431.0</td>\n",
       "      <td>151.0</td>\n",
       "      <td>Jan 29</td>\n",
       "    </tr>\n",
       "    <tr>\n",
       "      <th>3</th>\n",
       "      <td>Spain</td>\n",
       "      <td>65719</td>\n",
       "      <td>+7,933</td>\n",
       "      <td>5138.0</td>\n",
       "      <td>+773</td>\n",
       "      <td>9357.0</td>\n",
       "      <td>51224</td>\n",
       "      <td>4165.0</td>\n",
       "      <td>1406.0</td>\n",
       "      <td>110.0</td>\n",
       "      <td>Jan 30</td>\n",
       "    </tr>\n",
       "    <tr>\n",
       "      <th>4</th>\n",
       "      <td>Germany</td>\n",
       "      <td>50871</td>\n",
       "      <td>+6,933</td>\n",
       "      <td>351.0</td>\n",
       "      <td>+84</td>\n",
       "      <td>6658.0</td>\n",
       "      <td>43862</td>\n",
       "      <td>1581.0</td>\n",
       "      <td>607.0</td>\n",
       "      <td>4.0</td>\n",
       "      <td>Jan 26</td>\n",
       "    </tr>\n",
       "  </tbody>\n",
       "</table>\n",
       "</div>"
      ],
      "text/plain": [
       "   Country  TotalCases NewCases  TotalDeaths NewDeaths  TotalRecovered  \\\n",
       "0    China       81340      +55       3292.0        +5         74588.0   \n",
       "1      USA      104126  +18,691       1696.0      +401          2522.0   \n",
       "2    Italy       86498   +5,909       9134.0      +919         10950.0   \n",
       "3    Spain       65719   +7,933       5138.0      +773          9357.0   \n",
       "4  Germany       50871   +6,933        351.0       +84          6658.0   \n",
       "\n",
       "   ActiveCases  Critical  Tot Cases/1M pop  Deaths/1M pop 1stcase  \n",
       "0         3460    1034.0              57.0            2.0  Jan 10  \n",
       "1        99908    2463.0             315.0            5.0  Jan 20  \n",
       "2        66414    3732.0            1431.0          151.0  Jan 29  \n",
       "3        51224    4165.0            1406.0          110.0  Jan 30  \n",
       "4        43862    1581.0             607.0            4.0  Jan 26  "
      ]
     },
     "execution_count": 12,
     "metadata": {},
     "output_type": "execute_result"
    }
   ],
   "source": [
    "df_covid.head()"
   ]
  },
  {
   "cell_type": "markdown",
   "metadata": {},
   "source": [
    "Total number of countries "
   ]
  },
  {
   "cell_type": "code",
   "execution_count": 13,
   "metadata": {},
   "outputs": [
    {
     "data": {
      "text/plain": [
       "202"
      ]
     },
     "execution_count": 13,
     "metadata": {},
     "output_type": "execute_result"
    }
   ],
   "source": [
    "df_covid.Country.count()"
   ]
  },
  {
   "cell_type": "markdown",
   "metadata": {},
   "source": [
    "Total cases all over the world"
   ]
  },
  {
   "cell_type": "code",
   "execution_count": 14,
   "metadata": {},
   "outputs": [
    {
     "data": {
      "text/plain": [
       "1192624"
      ]
     },
     "execution_count": 14,
     "metadata": {},
     "output_type": "execute_result"
    }
   ],
   "source": [
    "df_covid.TotalCases.sum()"
   ]
  },
  {
   "cell_type": "markdown",
   "metadata": {},
   "source": [
    "Total recover cases all over the world"
   ]
  },
  {
   "cell_type": "code",
   "execution_count": 15,
   "metadata": {},
   "outputs": [
    {
     "data": {
      "text/plain": [
       "265352.0"
      ]
     },
     "execution_count": 15,
     "metadata": {},
     "output_type": "execute_result"
    }
   ],
   "source": [
    "df_covid.TotalRecovered.sum()"
   ]
  },
  {
   "cell_type": "markdown",
   "metadata": {},
   "source": [
    "Total deaths all over world"
   ]
  },
  {
   "cell_type": "code",
   "execution_count": 16,
   "metadata": {},
   "outputs": [
    {
     "data": {
      "text/plain": [
       "54682.0"
      ]
     },
     "execution_count": 16,
     "metadata": {},
     "output_type": "execute_result"
    }
   ],
   "source": [
    "df_covid.TotalDeaths.sum()"
   ]
  },
  {
   "cell_type": "markdown",
   "metadata": {},
   "source": [
    "# COUNTRY VS TOTALDEATH"
   ]
  },
  {
   "cell_type": "code",
   "execution_count": 17,
   "metadata": {},
   "outputs": [],
   "source": [
    "death = df_covid.sort_values(by = 'TotalDeaths', ascending = False).head(30).iloc[1:]"
   ]
  },
  {
   "cell_type": "code",
   "execution_count": 18,
   "metadata": {},
   "outputs": [
    {
     "data": {
      "text/html": [
       "<div>\n",
       "<style scoped>\n",
       "    .dataframe tbody tr th:only-of-type {\n",
       "        vertical-align: middle;\n",
       "    }\n",
       "\n",
       "    .dataframe tbody tr th {\n",
       "        vertical-align: top;\n",
       "    }\n",
       "\n",
       "    .dataframe thead th {\n",
       "        text-align: right;\n",
       "    }\n",
       "</style>\n",
       "<table border=\"1\" class=\"dataframe\">\n",
       "  <thead>\n",
       "    <tr style=\"text-align: right;\">\n",
       "      <th></th>\n",
       "      <th>Country</th>\n",
       "      <th>TotalCases</th>\n",
       "      <th>NewCases</th>\n",
       "      <th>TotalDeaths</th>\n",
       "      <th>NewDeaths</th>\n",
       "      <th>TotalRecovered</th>\n",
       "      <th>ActiveCases</th>\n",
       "      <th>Critical</th>\n",
       "      <th>Tot Cases/1M pop</th>\n",
       "      <th>Deaths/1M pop</th>\n",
       "      <th>1stcase</th>\n",
       "    </tr>\n",
       "  </thead>\n",
       "  <tbody>\n",
       "    <tr>\n",
       "      <th>2</th>\n",
       "      <td>Italy</td>\n",
       "      <td>86498</td>\n",
       "      <td>+5,909</td>\n",
       "      <td>9134.0</td>\n",
       "      <td>+919</td>\n",
       "      <td>10950.0</td>\n",
       "      <td>66414</td>\n",
       "      <td>3732.0</td>\n",
       "      <td>1431.0</td>\n",
       "      <td>151.0</td>\n",
       "      <td>Jan 29</td>\n",
       "    </tr>\n",
       "    <tr>\n",
       "      <th>3</th>\n",
       "      <td>Spain</td>\n",
       "      <td>65719</td>\n",
       "      <td>+7,933</td>\n",
       "      <td>5138.0</td>\n",
       "      <td>+773</td>\n",
       "      <td>9357.0</td>\n",
       "      <td>51224</td>\n",
       "      <td>4165.0</td>\n",
       "      <td>1406.0</td>\n",
       "      <td>110.0</td>\n",
       "      <td>Jan 30</td>\n",
       "    </tr>\n",
       "    <tr>\n",
       "      <th>0</th>\n",
       "      <td>China</td>\n",
       "      <td>81340</td>\n",
       "      <td>+55</td>\n",
       "      <td>3292.0</td>\n",
       "      <td>+5</td>\n",
       "      <td>74588.0</td>\n",
       "      <td>3460</td>\n",
       "      <td>1034.0</td>\n",
       "      <td>57.0</td>\n",
       "      <td>2.0</td>\n",
       "      <td>Jan 10</td>\n",
       "    </tr>\n",
       "    <tr>\n",
       "      <th>6</th>\n",
       "      <td>Iran</td>\n",
       "      <td>32332</td>\n",
       "      <td>+2,926</td>\n",
       "      <td>2378.0</td>\n",
       "      <td>+144</td>\n",
       "      <td>11133.0</td>\n",
       "      <td>18821</td>\n",
       "      <td>2893.0</td>\n",
       "      <td>385.0</td>\n",
       "      <td>28.0</td>\n",
       "      <td>Feb 18</td>\n",
       "    </tr>\n",
       "    <tr>\n",
       "      <th>5</th>\n",
       "      <td>France</td>\n",
       "      <td>32964</td>\n",
       "      <td>+3,809</td>\n",
       "      <td>1995.0</td>\n",
       "      <td>+299</td>\n",
       "      <td>5700.0</td>\n",
       "      <td>25269</td>\n",
       "      <td>3787.0</td>\n",
       "      <td>505.0</td>\n",
       "      <td>31.0</td>\n",
       "      <td>Jan 23</td>\n",
       "    </tr>\n",
       "  </tbody>\n",
       "</table>\n",
       "</div>"
      ],
      "text/plain": [
       "  Country  TotalCases NewCases  TotalDeaths NewDeaths  TotalRecovered  \\\n",
       "2   Italy       86498   +5,909       9134.0      +919         10950.0   \n",
       "3   Spain       65719   +7,933       5138.0      +773          9357.0   \n",
       "0   China       81340      +55       3292.0        +5         74588.0   \n",
       "6    Iran       32332   +2,926       2378.0      +144         11133.0   \n",
       "5  France       32964   +3,809       1995.0      +299          5700.0   \n",
       "\n",
       "   ActiveCases  Critical  Tot Cases/1M pop  Deaths/1M pop 1stcase  \n",
       "2        66414    3732.0            1431.0          151.0  Jan 29  \n",
       "3        51224    4165.0            1406.0          110.0  Jan 30  \n",
       "0         3460    1034.0              57.0            2.0  Jan 10  \n",
       "6        18821    2893.0             385.0           28.0  Feb 18  \n",
       "5        25269    3787.0             505.0           31.0  Jan 23  "
      ]
     },
     "execution_count": 18,
     "metadata": {},
     "output_type": "execute_result"
    }
   ],
   "source": [
    "death.head()"
   ]
  },
  {
   "cell_type": "code",
   "execution_count": 20,
   "metadata": {},
   "outputs": [
    {
     "data": {
      "image/png": "[encoded data removed]",
      "text/plain": [
       "<Figure size 792x432 with 1 Axes>"
      ]
     },
     "metadata": {
      "needs_background": "light"
     },
     "output_type": "display_data"
    }
   ],
   "source": [
    "plt.figure(figsize=(11,6))\n",
    "plt.plot(death['Country'],death['TotalDeaths'])\n",
    "degree = 80\n",
    "plt.xticks(rotation=degree)\n",
    "plt.legend()\n",
    "plt.xlabel('Country')\n",
    "plt.title('Country vs TotalDeath')\n",
    "plt.annotate(9134, \n",
    "             xy=('Italy', 9134),\n",
    "             xytext = ('Spain',9134),\n",
    "              arrowprops={'arrowstyle': '-|>'},\n",
    "             va = 'center'\n",
    "             ) \n",
    "plt.annotate(5138, \n",
    "             xy=('Spain', 5138),\n",
    "             xytext = ('China', 5138),\n",
    "              arrowprops={'arrowstyle': '-|>'},\n",
    "             va = 'center'\n",
    "             ) \n",
    "plt.annotate(3292, \n",
    "             xy=('China', 3292),\n",
    "             xytext = ('Iran', 3292),\n",
    "              arrowprops={'arrowstyle': '-|>'},\n",
    "             va = 'center'\n",
    "             ) \n",
    "plt.show()"
   ]
  },
  {
   "cell_type": "markdown",
   "metadata": {},
   "source": [
    "# COUNTRY VS TOTALCASES"
   ]
  },
  {
   "cell_type": "code",
   "execution_count": 21,
   "metadata": {},
   "outputs": [],
   "source": [
    "case = df_covid.sort_values(by = 'TotalCases', ascending = False).head(30).iloc[1:]"
   ]
  },
  {
   "cell_type": "code",
   "execution_count": 22,
   "metadata": {},
   "outputs": [
    {
     "data": {
      "image/png": "[encoded data removed]",
      "text/plain": [
       "<Figure size 792x432 with 1 Axes>"
      ]
     },
     "metadata": {
      "needs_background": "light"
     },
     "output_type": "display_data"
    }
   ],
   "source": [
    "plt.figure(figsize=(11,6))\n",
    "plt.plot(case['Country'],case['TotalCases'])\n",
    "degree = 80\n",
    "plt.xticks(rotation=degree)\n",
    "plt.legend()\n",
    "plt.xlabel('Country')\n",
    "plt.annotate(86498, \n",
    "             xy=('Italy', 86498),\n",
    "             xytext = ('Spain',86498),\n",
    "              arrowprops={'arrowstyle': '-|>'},\n",
    "             va = 'center'\n",
    "             ) \n",
    "plt.annotate(104256, \n",
    "             xy=('USA', 104256),\n",
    "             xytext = ('China', 104256),\n",
    "              arrowprops={'arrowstyle': '-|>'},\n",
    "             va = 'center'\n",
    "             ) \n",
    "plt.annotate(81394, \n",
    "             xy=('China', 81394),\n",
    "             xytext = ('Iran', 81394),\n",
    "              arrowprops={'arrowstyle': '-|>'},\n",
    "             va = 'center'\n",
    "             ) \n",
    "plt.show()"
   ]
  },
  {
   "cell_type": "markdown",
   "metadata": {},
   "source": [
    "# COUNTRY VS TOTALRECOVERED"
   ]
  },
  {
   "cell_type": "code",
   "execution_count": 24,
   "metadata": {},
   "outputs": [],
   "source": [
    "recover = df_covid.sort_values(by = 'TotalRecovered', ascending = False).head(30).iloc[1:]"
   ]
  },
  {
   "cell_type": "code",
   "execution_count": 29,
   "metadata": {},
   "outputs": [
    {
     "data": {
      "image/png": "[encoded data removed]",
      "text/plain": [
       "<Figure size 792x432 with 1 Axes>"
      ]
     },
     "metadata": {
      "needs_background": "light"
     },
     "output_type": "display_data"
    }
   ],
   "source": [
    "plt.figure(figsize=(11,6))\n",
    "plt.plot(recover['Country'],recover['TotalRecovered'])\n",
    "degree = 80\n",
    "plt.xticks(rotation=degree)\n",
    "plt.legend()\n",
    "plt.xlabel('Country')\n",
    "plt.title('Country vs TotalRecovered')\n",
    "plt.annotate(11133, \n",
    "             xy=('Iran', 11133),\n",
    "             xytext = ('Italy',15000),\n",
    "              arrowprops={'arrowstyle': '-|>'},\n",
    "             va = 'center'\n",
    "             ) \n",
    "plt.annotate(10950, \n",
    "             xy=('Italy', 10950),\n",
    "             xytext = ('Spain', 10950),\n",
    "              arrowprops={'arrowstyle': '-|>'},\n",
    "             va = 'center'\n",
    "             ) \n",
    "plt.annotate(74971, \n",
    "             xy=('China', 74971),\n",
    "             xytext = ('Iran', 74971),\n",
    "              arrowprops={'arrowstyle': '-|>'},\n",
    "             va = 'center'\n",
    "             ) \n",
    "plt.show()"
   ]
  },
  {
   "cell_type": "code",
   "execution_count": null,
   "metadata": {},
   "outputs": [],
   "source": []
  }
 ],
 "metadata": {
  "kernelspec": {
   "display_name": "Python 3",
   "language": "python",
   "name": "python3"
  },
  "language_info": {
   "codemirror_mode": {
    "name": "ipython",
    "version": 3
   },
   "file_extension": ".py",
   "mimetype": "text/x-python",
   "name": "python",
   "nbconvert_exporter": "python",
   "pygments_lexer": "ipython3",
   "version": "3.7.1"
  }
 },
 "nbformat": 4,
 "nbformat_minor": 2
}
