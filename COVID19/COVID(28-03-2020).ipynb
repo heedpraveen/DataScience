{
 "cells": [
  {
   "cell_type": "code",
   "execution_count": 1,
   "metadata": {},
   "outputs": [],
   "source": [
    "###Web scrapping###\n",
    "\n",
    "import requests\n",
    "import pandas as pd"
   ]
  },
  {
   "cell_type": "code",
   "execution_count": 2,
   "metadata": {},
   "outputs": [],
   "source": [
    "url = \"https://www.worldometers.info/coronavirus/#countries\""
   ]
  },
  {
   "cell_type": "code",
   "execution_count": 3,
   "metadata": {},
   "outputs": [],
   "source": [
    "html = requests.get(url).content"
   ]
  },
  {
   "cell_type": "code",
   "execution_count": 5,
   "metadata": {},
   "outputs": [],
   "source": [
    "df_list = pd.read_html(html)"
   ]
  },
  {
   "cell_type": "code",
   "execution_count": 8,
   "metadata": {},
   "outputs": [],
   "source": [
    "df = df_list[-1]"
   ]
  },
  {
   "cell_type": "code",
   "execution_count": 13,
   "metadata": {},
   "outputs": [],
   "source": [
    "df.to_csv('covid.csv', index=False)"
   ]
  },
  {
   "cell_type": "code",
   "execution_count": null,
   "metadata": {},
   "outputs": [],
   "source": []
  },
  {
   "cell_type": "markdown",
   "metadata": {},
   "source": [
    "# EDA"
   ]
  },
  {
   "cell_type": "code",
   "execution_count": 14,
   "metadata": {},
   "outputs": [],
   "source": [
    "df_covid = pd.read_csv('covid.csv')"
   ]
  },
  {
   "cell_type": "code",
   "execution_count": 11,
   "metadata": {},
   "outputs": [],
   "source": [
    "import matplotlib.pyplot as plt"
   ]
  },
  {
   "cell_type": "code",
   "execution_count": 15,
   "metadata": {},
   "outputs": [
    {
     "data": {
      "text/html": [
       "<div>\n",
       "<style scoped>\n",
       "    .dataframe tbody tr th:only-of-type {\n",
       "        vertical-align: middle;\n",
       "    }\n",
       "\n",
       "    .dataframe tbody tr th {\n",
       "        vertical-align: top;\n",
       "    }\n",
       "\n",
       "    .dataframe thead th {\n",
       "        text-align: right;\n",
       "    }\n",
       "</style>\n",
       "<table border=\"1\" class=\"dataframe\">\n",
       "  <thead>\n",
       "    <tr style=\"text-align: right;\">\n",
       "      <th></th>\n",
       "      <th>Country,Other</th>\n",
       "      <th>TotalCases</th>\n",
       "      <th>NewCases</th>\n",
       "      <th>TotalDeaths</th>\n",
       "      <th>NewDeaths</th>\n",
       "      <th>TotalRecovered</th>\n",
       "      <th>ActiveCases</th>\n",
       "      <th>Serious,Critical</th>\n",
       "      <th>Tot Cases/1M pop</th>\n",
       "      <th>Tot Deaths/1M pop</th>\n",
       "    </tr>\n",
       "  </thead>\n",
       "  <tbody>\n",
       "    <tr>\n",
       "      <th>0</th>\n",
       "      <td>China</td>\n",
       "      <td>81285</td>\n",
       "      <td>+67</td>\n",
       "      <td>3287.0</td>\n",
       "      <td>6.0</td>\n",
       "      <td>74051.0</td>\n",
       "      <td>3947</td>\n",
       "      <td>1235.0</td>\n",
       "      <td>56.0</td>\n",
       "      <td>2.0</td>\n",
       "    </tr>\n",
       "    <tr>\n",
       "      <th>1</th>\n",
       "      <td>USA</td>\n",
       "      <td>85435</td>\n",
       "      <td>+17,224</td>\n",
       "      <td>1295.0</td>\n",
       "      <td>268.0</td>\n",
       "      <td>1868.0</td>\n",
       "      <td>82272</td>\n",
       "      <td>2122.0</td>\n",
       "      <td>258.0</td>\n",
       "      <td>4.0</td>\n",
       "    </tr>\n",
       "    <tr>\n",
       "      <th>2</th>\n",
       "      <td>Italy</td>\n",
       "      <td>80589</td>\n",
       "      <td>+6,203</td>\n",
       "      <td>8215.0</td>\n",
       "      <td>712.0</td>\n",
       "      <td>10361.0</td>\n",
       "      <td>62013</td>\n",
       "      <td>3612.0</td>\n",
       "      <td>1333.0</td>\n",
       "      <td>136.0</td>\n",
       "    </tr>\n",
       "    <tr>\n",
       "      <th>3</th>\n",
       "      <td>Spain</td>\n",
       "      <td>57786</td>\n",
       "      <td>+8,271</td>\n",
       "      <td>4365.0</td>\n",
       "      <td>718.0</td>\n",
       "      <td>7015.0</td>\n",
       "      <td>46406</td>\n",
       "      <td>3166.0</td>\n",
       "      <td>1236.0</td>\n",
       "      <td>93.0</td>\n",
       "    </tr>\n",
       "    <tr>\n",
       "      <th>4</th>\n",
       "      <td>Germany</td>\n",
       "      <td>43938</td>\n",
       "      <td>+6,615</td>\n",
       "      <td>267.0</td>\n",
       "      <td>61.0</td>\n",
       "      <td>5673.0</td>\n",
       "      <td>37998</td>\n",
       "      <td>23.0</td>\n",
       "      <td>524.0</td>\n",
       "      <td>3.0</td>\n",
       "    </tr>\n",
       "  </tbody>\n",
       "</table>\n",
       "</div>"
      ],
      "text/plain": [
       "  Country,Other  TotalCases NewCases  TotalDeaths  NewDeaths  TotalRecovered  \\\n",
       "0         China       81285      +67       3287.0        6.0         74051.0   \n",
       "1           USA       85435  +17,224       1295.0      268.0          1868.0   \n",
       "2         Italy       80589   +6,203       8215.0      712.0         10361.0   \n",
       "3         Spain       57786   +8,271       4365.0      718.0          7015.0   \n",
       "4       Germany       43938   +6,615        267.0       61.0          5673.0   \n",
       "\n",
       "   ActiveCases  Serious,Critical  Tot Cases/1M pop  Tot Deaths/1M pop  \n",
       "0         3947            1235.0              56.0                2.0  \n",
       "1        82272            2122.0             258.0                4.0  \n",
       "2        62013            3612.0            1333.0              136.0  \n",
       "3        46406            3166.0            1236.0               93.0  \n",
       "4        37998              23.0             524.0                3.0  "
      ]
     },
     "execution_count": 15,
     "metadata": {},
     "output_type": "execute_result"
    }
   ],
   "source": [
    "df_covid.head()"
   ]
  },
  {
   "cell_type": "code",
   "execution_count": 17,
   "metadata": {},
   "outputs": [
    {
     "data": {
      "text/plain": [
       "(201, 10)"
      ]
     },
     "execution_count": 17,
     "metadata": {},
     "output_type": "execute_result"
    }
   ],
   "source": [
    "df_covid.shape"
   ]
  },
  {
   "cell_type": "code",
   "execution_count": 20,
   "metadata": {},
   "outputs": [],
   "source": [
    "df_covid.rename(columns = {'Country,Other':'Country',\n",
    "                          'Serious,Critical':'Critical'\n",
    "                          },inplace = True)"
   ]
  },
  {
   "cell_type": "code",
   "execution_count": 21,
   "metadata": {},
   "outputs": [
    {
     "data": {
      "text/html": [
       "<div>\n",
       "<style scoped>\n",
       "    .dataframe tbody tr th:only-of-type {\n",
       "        vertical-align: middle;\n",
       "    }\n",
       "\n",
       "    .dataframe tbody tr th {\n",
       "        vertical-align: top;\n",
       "    }\n",
       "\n",
       "    .dataframe thead th {\n",
       "        text-align: right;\n",
       "    }\n",
       "</style>\n",
       "<table border=\"1\" class=\"dataframe\">\n",
       "  <thead>\n",
       "    <tr style=\"text-align: right;\">\n",
       "      <th></th>\n",
       "      <th>Country</th>\n",
       "      <th>TotalCases</th>\n",
       "      <th>NewCases</th>\n",
       "      <th>TotalDeaths</th>\n",
       "      <th>NewDeaths</th>\n",
       "      <th>TotalRecovered</th>\n",
       "      <th>ActiveCases</th>\n",
       "      <th>Critical</th>\n",
       "      <th>Tot Cases/1M pop</th>\n",
       "      <th>Tot Deaths/1M pop</th>\n",
       "    </tr>\n",
       "  </thead>\n",
       "  <tbody>\n",
       "    <tr>\n",
       "      <th>0</th>\n",
       "      <td>China</td>\n",
       "      <td>81285</td>\n",
       "      <td>+67</td>\n",
       "      <td>3287.0</td>\n",
       "      <td>6.0</td>\n",
       "      <td>74051.0</td>\n",
       "      <td>3947</td>\n",
       "      <td>1235.0</td>\n",
       "      <td>56.0</td>\n",
       "      <td>2.0</td>\n",
       "    </tr>\n",
       "    <tr>\n",
       "      <th>1</th>\n",
       "      <td>USA</td>\n",
       "      <td>85435</td>\n",
       "      <td>+17,224</td>\n",
       "      <td>1295.0</td>\n",
       "      <td>268.0</td>\n",
       "      <td>1868.0</td>\n",
       "      <td>82272</td>\n",
       "      <td>2122.0</td>\n",
       "      <td>258.0</td>\n",
       "      <td>4.0</td>\n",
       "    </tr>\n",
       "    <tr>\n",
       "      <th>2</th>\n",
       "      <td>Italy</td>\n",
       "      <td>80589</td>\n",
       "      <td>+6,203</td>\n",
       "      <td>8215.0</td>\n",
       "      <td>712.0</td>\n",
       "      <td>10361.0</td>\n",
       "      <td>62013</td>\n",
       "      <td>3612.0</td>\n",
       "      <td>1333.0</td>\n",
       "      <td>136.0</td>\n",
       "    </tr>\n",
       "    <tr>\n",
       "      <th>3</th>\n",
       "      <td>Spain</td>\n",
       "      <td>57786</td>\n",
       "      <td>+8,271</td>\n",
       "      <td>4365.0</td>\n",
       "      <td>718.0</td>\n",
       "      <td>7015.0</td>\n",
       "      <td>46406</td>\n",
       "      <td>3166.0</td>\n",
       "      <td>1236.0</td>\n",
       "      <td>93.0</td>\n",
       "    </tr>\n",
       "    <tr>\n",
       "      <th>4</th>\n",
       "      <td>Germany</td>\n",
       "      <td>43938</td>\n",
       "      <td>+6,615</td>\n",
       "      <td>267.0</td>\n",
       "      <td>61.0</td>\n",
       "      <td>5673.0</td>\n",
       "      <td>37998</td>\n",
       "      <td>23.0</td>\n",
       "      <td>524.0</td>\n",
       "      <td>3.0</td>\n",
       "    </tr>\n",
       "  </tbody>\n",
       "</table>\n",
       "</div>"
      ],
      "text/plain": [
       "   Country  TotalCases NewCases  TotalDeaths  NewDeaths  TotalRecovered  \\\n",
       "0    China       81285      +67       3287.0        6.0         74051.0   \n",
       "1      USA       85435  +17,224       1295.0      268.0          1868.0   \n",
       "2    Italy       80589   +6,203       8215.0      712.0         10361.0   \n",
       "3    Spain       57786   +8,271       4365.0      718.0          7015.0   \n",
       "4  Germany       43938   +6,615        267.0       61.0          5673.0   \n",
       "\n",
       "   ActiveCases  Critical  Tot Cases/1M pop  Tot Deaths/1M pop  \n",
       "0         3947    1235.0              56.0                2.0  \n",
       "1        82272    2122.0             258.0                4.0  \n",
       "2        62013    3612.0            1333.0              136.0  \n",
       "3        46406    3166.0            1236.0               93.0  \n",
       "4        37998      23.0             524.0                3.0  "
      ]
     },
     "execution_count": 21,
     "metadata": {},
     "output_type": "execute_result"
    }
   ],
   "source": [
    "df_covid.head()"
   ]
  },
  {
   "cell_type": "markdown",
   "metadata": {},
   "source": [
    "Total number of countries "
   ]
  },
  {
   "cell_type": "code",
   "execution_count": 26,
   "metadata": {},
   "outputs": [
    {
     "data": {
      "text/plain": [
       "201"
      ]
     },
     "execution_count": 26,
     "metadata": {},
     "output_type": "execute_result"
    }
   ],
   "source": [
    "df_covid.Country.count()"
   ]
  },
  {
   "cell_type": "markdown",
   "metadata": {},
   "source": [
    "Total cases all over the world"
   ]
  },
  {
   "cell_type": "code",
   "execution_count": 27,
   "metadata": {},
   "outputs": [
    {
     "data": {
      "text/plain": [
       "1063620"
      ]
     },
     "execution_count": 27,
     "metadata": {},
     "output_type": "execute_result"
    }
   ],
   "source": [
    "df_covid.TotalCases.sum()"
   ]
  },
  {
   "cell_type": "markdown",
   "metadata": {},
   "source": [
    "Total recover cases all over the world"
   ]
  },
  {
   "cell_type": "code",
   "execution_count": 29,
   "metadata": {},
   "outputs": [
    {
     "data": {
      "text/plain": [
       "246810.0"
      ]
     },
     "execution_count": 29,
     "metadata": {},
     "output_type": "execute_result"
    }
   ],
   "source": [
    "df_covid.TotalRecovered.sum()"
   ]
  },
  {
   "cell_type": "markdown",
   "metadata": {},
   "source": [
    "Total deaths all over world"
   ]
  },
  {
   "cell_type": "code",
   "execution_count": 28,
   "metadata": {},
   "outputs": [
    {
     "data": {
      "text/plain": [
       "48136.0"
      ]
     },
     "execution_count": 28,
     "metadata": {},
     "output_type": "execute_result"
    }
   ],
   "source": [
    "df_covid.TotalDeaths.sum()"
   ]
  },
  {
   "cell_type": "markdown",
   "metadata": {},
   "source": [
    "# COUNTRY VS TOTALDEATH"
   ]
  },
  {
   "cell_type": "code",
   "execution_count": 61,
   "metadata": {},
   "outputs": [],
   "source": [
    "death = df_covid.sort_values(by = 'TotalDeaths', ascending = False).head(30).iloc[1:]"
   ]
  },
  {
   "cell_type": "code",
   "execution_count": 62,
   "metadata": {},
   "outputs": [
    {
     "data": {
      "text/html": [
       "<div>\n",
       "<style scoped>\n",
       "    .dataframe tbody tr th:only-of-type {\n",
       "        vertical-align: middle;\n",
       "    }\n",
       "\n",
       "    .dataframe tbody tr th {\n",
       "        vertical-align: top;\n",
       "    }\n",
       "\n",
       "    .dataframe thead th {\n",
       "        text-align: right;\n",
       "    }\n",
       "</style>\n",
       "<table border=\"1\" class=\"dataframe\">\n",
       "  <thead>\n",
       "    <tr style=\"text-align: right;\">\n",
       "      <th></th>\n",
       "      <th>Country</th>\n",
       "      <th>TotalCases</th>\n",
       "      <th>NewCases</th>\n",
       "      <th>TotalDeaths</th>\n",
       "      <th>NewDeaths</th>\n",
       "      <th>TotalRecovered</th>\n",
       "      <th>ActiveCases</th>\n",
       "      <th>Critical</th>\n",
       "      <th>Tot Cases/1M pop</th>\n",
       "      <th>Tot Deaths/1M pop</th>\n",
       "    </tr>\n",
       "  </thead>\n",
       "  <tbody>\n",
       "    <tr>\n",
       "      <th>2</th>\n",
       "      <td>Italy</td>\n",
       "      <td>80589</td>\n",
       "      <td>+6,203</td>\n",
       "      <td>8215.0</td>\n",
       "      <td>712.0</td>\n",
       "      <td>10361.0</td>\n",
       "      <td>62013</td>\n",
       "      <td>3612.0</td>\n",
       "      <td>1333.0</td>\n",
       "      <td>136.0</td>\n",
       "    </tr>\n",
       "    <tr>\n",
       "      <th>3</th>\n",
       "      <td>Spain</td>\n",
       "      <td>57786</td>\n",
       "      <td>+8,271</td>\n",
       "      <td>4365.0</td>\n",
       "      <td>718.0</td>\n",
       "      <td>7015.0</td>\n",
       "      <td>46406</td>\n",
       "      <td>3166.0</td>\n",
       "      <td>1236.0</td>\n",
       "      <td>93.0</td>\n",
       "    </tr>\n",
       "    <tr>\n",
       "      <th>0</th>\n",
       "      <td>China</td>\n",
       "      <td>81285</td>\n",
       "      <td>+67</td>\n",
       "      <td>3287.0</td>\n",
       "      <td>6.0</td>\n",
       "      <td>74051.0</td>\n",
       "      <td>3947</td>\n",
       "      <td>1235.0</td>\n",
       "      <td>56.0</td>\n",
       "      <td>2.0</td>\n",
       "    </tr>\n",
       "    <tr>\n",
       "      <th>5</th>\n",
       "      <td>Iran</td>\n",
       "      <td>29406</td>\n",
       "      <td>+2,389</td>\n",
       "      <td>2234.0</td>\n",
       "      <td>157.0</td>\n",
       "      <td>10457.0</td>\n",
       "      <td>16715</td>\n",
       "      <td>2746.0</td>\n",
       "      <td>350.0</td>\n",
       "      <td>27.0</td>\n",
       "    </tr>\n",
       "    <tr>\n",
       "      <th>6</th>\n",
       "      <td>France</td>\n",
       "      <td>29155</td>\n",
       "      <td>+3,922</td>\n",
       "      <td>1696.0</td>\n",
       "      <td>365.0</td>\n",
       "      <td>4948.0</td>\n",
       "      <td>22511</td>\n",
       "      <td>3375.0</td>\n",
       "      <td>447.0</td>\n",
       "      <td>26.0</td>\n",
       "    </tr>\n",
       "  </tbody>\n",
       "</table>\n",
       "</div>"
      ],
      "text/plain": [
       "  Country  TotalCases NewCases  TotalDeaths  NewDeaths  TotalRecovered  \\\n",
       "2   Italy       80589   +6,203       8215.0      712.0         10361.0   \n",
       "3   Spain       57786   +8,271       4365.0      718.0          7015.0   \n",
       "0   China       81285      +67       3287.0        6.0         74051.0   \n",
       "5    Iran       29406   +2,389       2234.0      157.0         10457.0   \n",
       "6  France       29155   +3,922       1696.0      365.0          4948.0   \n",
       "\n",
       "   ActiveCases  Critical  Tot Cases/1M pop  Tot Deaths/1M pop  \n",
       "2        62013    3612.0            1333.0              136.0  \n",
       "3        46406    3166.0            1236.0               93.0  \n",
       "0         3947    1235.0              56.0                2.0  \n",
       "5        16715    2746.0             350.0               27.0  \n",
       "6        22511    3375.0             447.0               26.0  "
      ]
     },
     "execution_count": 62,
     "metadata": {},
     "output_type": "execute_result"
    }
   ],
   "source": [
    "death.head()"
   ]
  },
  {
   "cell_type": "code",
   "execution_count": 90,
   "metadata": {},
   "outputs": [
    {
     "data": {
      "image/png": "[encoded data removed]",
      "text/plain": [
       "<Figure size 792x432 with 1 Axes>"
      ]
     },
     "metadata": {
      "needs_background": "light"
     },
     "output_type": "display_data"
    }
   ],
   "source": [
    "plt.figure(figsize=(11,6))\n",
    "plt.plot(death['Country'],death['TotalDeaths'])\n",
    "degree = 80\n",
    "plt.xticks(rotation=degree)\n",
    "plt.legend()\n",
    "plt.xlabel('Country')\n",
    "plt.title('Country vs TotalDeath')\n",
    "plt.annotate(8215, \n",
    "             xy=('Italy', 8250),\n",
    "             xytext = ('Spain',8250),\n",
    "              arrowprops={'arrowstyle': '-|>'},\n",
    "             va = 'center'\n",
    "             ) \n",
    "plt.annotate(4365, \n",
    "             xy=('Spain', 4365),\n",
    "             xytext = ('China', 4356),\n",
    "              arrowprops={'arrowstyle': '-|>'},\n",
    "             va = 'center'\n",
    "             ) \n",
    "plt.annotate(3287, \n",
    "             xy=('China', 3287),\n",
    "             xytext = ('Iran', 3287),\n",
    "              arrowprops={'arrowstyle': '-|>'},\n",
    "             va = 'center'\n",
    "             ) \n",
    "plt.show()"
   ]
  },
  {
   "cell_type": "markdown",
   "metadata": {},
   "source": [
    "# COUNTRY VS TOTALCASES"
   ]
  },
  {
   "cell_type": "code",
   "execution_count": 91,
   "metadata": {},
   "outputs": [],
   "source": [
    "case = df_covid.sort_values(by = 'TotalCases', ascending = False).head(30).iloc[1:]"
   ]
  },
  {
   "cell_type": "code",
   "execution_count": 96,
   "metadata": {},
   "outputs": [
    {
     "data": {
      "image/png": "[encoded data removed]",
      "text/plain": [
       "<Figure size 792x432 with 1 Axes>"
      ]
     },
     "metadata": {
      "needs_background": "light"
     },
     "output_type": "display_data"
    }
   ],
   "source": [
    "plt.figure(figsize=(11,6))\n",
    "plt.plot(case['Country'],case['TotalCases'])\n",
    "degree = 80\n",
    "plt.xticks(rotation=degree)\n",
    "plt.legend()\n",
    "plt.xlabel('Country')\n",
    "plt.annotate(80589, \n",
    "             xy=('Italy', 80589),\n",
    "             xytext = ('Spain',78000),\n",
    "              arrowprops={'arrowstyle': '-|>'},\n",
    "             va = 'center'\n",
    "             ) \n",
    "plt.annotate(85435, \n",
    "             xy=('USA', 85435),\n",
    "             xytext = ('China', 85435),\n",
    "              arrowprops={'arrowstyle': '-|>'},\n",
    "             va = 'center'\n",
    "             ) \n",
    "plt.annotate(81285, \n",
    "             xy=('China', 81285),\n",
    "             xytext = ('Iran', 81285),\n",
    "              arrowprops={'arrowstyle': '-|>'},\n",
    "             va = 'center'\n",
    "             ) \n",
    "plt.show()"
   ]
  },
  {
   "cell_type": "markdown",
   "metadata": {},
   "source": [
    "# COUNTRY VS TOTALRECOVERED"
   ]
  },
  {
   "cell_type": "code",
   "execution_count": 97,
   "metadata": {},
   "outputs": [],
   "source": [
    "recover = df_covid.sort_values(by = 'TotalRecovered', ascending = False).head(30).iloc[1:]"
   ]
  },
  {
   "cell_type": "code",
   "execution_count": 109,
   "metadata": {},
   "outputs": [
    {
     "data": {
      "image/png": "[encoded data removed]",
      "text/plain": [
       "<Figure size 792x432 with 1 Axes>"
      ]
     },
     "metadata": {
      "needs_background": "light"
     },
     "output_type": "display_data"
    }
   ],
   "source": [
    "plt.figure(figsize=(11,6))\n",
    "plt.plot(recover['Country'],recover['TotalRecovered'])\n",
    "degree = 80\n",
    "plt.xticks(rotation=degree)\n",
    "plt.legend()\n",
    "plt.xlabel('Country')\n",
    "plt.title('Country vs TotalRecovered')\n",
    "plt.annotate(10457, \n",
    "             xy=('Iran', 10457),\n",
    "             xytext = ('Italy',14700),\n",
    "              arrowprops={'arrowstyle': '-|>'},\n",
    "             va = 'center'\n",
    "             ) \n",
    "plt.annotate(10361, \n",
    "             xy=('Italy', 10361),\n",
    "             xytext = ('Spain', 10000),\n",
    "              arrowprops={'arrowstyle': '-|>'},\n",
    "             va = 'center'\n",
    "             ) \n",
    "plt.annotate(74051, \n",
    "             xy=('China', 74051),\n",
    "             xytext = ('Iran', 74051),\n",
    "              arrowprops={'arrowstyle': '-|>'},\n",
    "             va = 'center'\n",
    "             ) \n",
    "plt.show()"
   ]
  },
  {
   "cell_type": "code",
   "execution_count": null,
   "metadata": {},
   "outputs": [],
   "source": []
  }
 ],
 "metadata": {
  "kernelspec": {
   "display_name": "Python 3",
   "language": "python",
   "name": "python3"
  },
  "language_info": {
   "codemirror_mode": {
    "name": "ipython",
    "version": 3
   },
   "file_extension": ".py",
   "mimetype": "text/x-python",
   "name": "python",
   "nbconvert_exporter": "python",
   "pygments_lexer": "ipython3",
   "version": "3.7.1"
  }
 },
 "nbformat": 4,
 "nbformat_minor": 2
}
