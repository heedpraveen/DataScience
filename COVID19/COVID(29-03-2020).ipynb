{
 "cells": [
  {
   "cell_type": "code",
   "execution_count": 1,
   "metadata": {},
   "outputs": [],
   "source": [
    "###Web scrapping###\n",
    "\n",
    "import requests\n",
    "import pandas as pd"
   ]
  },
  {
   "cell_type": "code",
   "execution_count": 2,
   "metadata": {},
   "outputs": [],
   "source": [
    "url = \"https://www.worldometers.info/coronavirus/#countries\""
   ]
  },
  {
   "cell_type": "code",
   "execution_count": 3,
   "metadata": {},
   "outputs": [],
   "source": [
    "html = requests.get(url).content"
   ]
  },
  {
   "cell_type": "code",
   "execution_count": 4,
   "metadata": {},
   "outputs": [],
   "source": [
    "df_list = pd.read_html(html)"
   ]
  },
  {
   "cell_type": "code",
   "execution_count": 5,
   "metadata": {},
   "outputs": [],
   "source": [
    "df = df_list[-1]"
   ]
  },
  {
   "cell_type": "code",
   "execution_count": 6,
   "metadata": {},
   "outputs": [],
   "source": [
    "df.to_csv('covid.csv', index=False)"
   ]
  },
  {
   "cell_type": "code",
   "execution_count": null,
   "metadata": {},
   "outputs": [],
   "source": []
  },
  {
   "cell_type": "markdown",
   "metadata": {},
   "source": [
    "# EDA"
   ]
  },
  {
   "cell_type": "code",
   "execution_count": 7,
   "metadata": {},
   "outputs": [],
   "source": [
    "df_covid = pd.read_csv('covid.csv')"
   ]
  },
  {
   "cell_type": "code",
   "execution_count": 8,
   "metadata": {},
   "outputs": [],
   "source": [
    "import matplotlib.pyplot as plt"
   ]
  },
  {
   "cell_type": "code",
   "execution_count": 9,
   "metadata": {},
   "outputs": [
    {
     "data": {
      "text/html": [
       "<div>\n",
       "<style scoped>\n",
       "    .dataframe tbody tr th:only-of-type {\n",
       "        vertical-align: middle;\n",
       "    }\n",
       "\n",
       "    .dataframe tbody tr th {\n",
       "        vertical-align: top;\n",
       "    }\n",
       "\n",
       "    .dataframe thead th {\n",
       "        text-align: right;\n",
       "    }\n",
       "</style>\n",
       "<table border=\"1\" class=\"dataframe\">\n",
       "  <thead>\n",
       "    <tr style=\"text-align: right;\">\n",
       "      <th></th>\n",
       "      <th>Country,Other</th>\n",
       "      <th>TotalCases</th>\n",
       "      <th>NewCases</th>\n",
       "      <th>TotalDeaths</th>\n",
       "      <th>NewDeaths</th>\n",
       "      <th>TotalRecovered</th>\n",
       "      <th>ActiveCases</th>\n",
       "      <th>Serious,Critical</th>\n",
       "      <th>Tot Cases/1M pop</th>\n",
       "      <th>Deaths/1M pop</th>\n",
       "      <th>1stcase</th>\n",
       "    </tr>\n",
       "  </thead>\n",
       "  <tbody>\n",
       "    <tr>\n",
       "      <th>0</th>\n",
       "      <td>China</td>\n",
       "      <td>81394</td>\n",
       "      <td>+54</td>\n",
       "      <td>3295.0</td>\n",
       "      <td>+3</td>\n",
       "      <td>74971.0</td>\n",
       "      <td>3128</td>\n",
       "      <td>886.0</td>\n",
       "      <td>57.0</td>\n",
       "      <td>2.0</td>\n",
       "      <td>Jan 10</td>\n",
       "    </tr>\n",
       "    <tr>\n",
       "      <th>1</th>\n",
       "      <td>USA</td>\n",
       "      <td>123578</td>\n",
       "      <td>+19,452</td>\n",
       "      <td>2221.0</td>\n",
       "      <td>+525</td>\n",
       "      <td>3231.0</td>\n",
       "      <td>118126</td>\n",
       "      <td>2666.0</td>\n",
       "      <td>373.0</td>\n",
       "      <td>7.0</td>\n",
       "      <td>Jan 20</td>\n",
       "    </tr>\n",
       "    <tr>\n",
       "      <th>2</th>\n",
       "      <td>Italy</td>\n",
       "      <td>92472</td>\n",
       "      <td>+5,974</td>\n",
       "      <td>10023.0</td>\n",
       "      <td>+889</td>\n",
       "      <td>12384.0</td>\n",
       "      <td>70065</td>\n",
       "      <td>3856.0</td>\n",
       "      <td>1529.0</td>\n",
       "      <td>166.0</td>\n",
       "      <td>Jan 29</td>\n",
       "    </tr>\n",
       "    <tr>\n",
       "      <th>3</th>\n",
       "      <td>Spain</td>\n",
       "      <td>73235</td>\n",
       "      <td>+7,516</td>\n",
       "      <td>5982.0</td>\n",
       "      <td>+844</td>\n",
       "      <td>12285.0</td>\n",
       "      <td>54968</td>\n",
       "      <td>4165.0</td>\n",
       "      <td>1566.0</td>\n",
       "      <td>128.0</td>\n",
       "      <td>Jan 30</td>\n",
       "    </tr>\n",
       "    <tr>\n",
       "      <th>4</th>\n",
       "      <td>Germany</td>\n",
       "      <td>57695</td>\n",
       "      <td>+6,824</td>\n",
       "      <td>433.0</td>\n",
       "      <td>+82</td>\n",
       "      <td>8481.0</td>\n",
       "      <td>48781</td>\n",
       "      <td>1581.0</td>\n",
       "      <td>689.0</td>\n",
       "      <td>5.0</td>\n",
       "      <td>Jan 26</td>\n",
       "    </tr>\n",
       "  </tbody>\n",
       "</table>\n",
       "</div>"
      ],
      "text/plain": [
       "  Country,Other  TotalCases NewCases  TotalDeaths NewDeaths  TotalRecovered  \\\n",
       "0         China       81394      +54       3295.0        +3         74971.0   \n",
       "1           USA      123578  +19,452       2221.0      +525          3231.0   \n",
       "2         Italy       92472   +5,974      10023.0      +889         12384.0   \n",
       "3         Spain       73235   +7,516       5982.0      +844         12285.0   \n",
       "4       Germany       57695   +6,824        433.0       +82          8481.0   \n",
       "\n",
       "   ActiveCases  Serious,Critical  Tot Cases/1M pop  Deaths/1M pop 1stcase  \n",
       "0         3128             886.0              57.0            2.0  Jan 10  \n",
       "1       118126            2666.0             373.0            7.0  Jan 20  \n",
       "2        70065            3856.0            1529.0          166.0  Jan 29  \n",
       "3        54968            4165.0            1566.0          128.0  Jan 30  \n",
       "4        48781            1581.0             689.0            5.0  Jan 26  "
      ]
     },
     "execution_count": 9,
     "metadata": {},
     "output_type": "execute_result"
    }
   ],
   "source": [
    "df_covid.head()"
   ]
  },
  {
   "cell_type": "code",
   "execution_count": 10,
   "metadata": {},
   "outputs": [
    {
     "data": {
      "text/plain": [
       "(202, 11)"
      ]
     },
     "execution_count": 10,
     "metadata": {},
     "output_type": "execute_result"
    }
   ],
   "source": [
    "df_covid.shape"
   ]
  },
  {
   "cell_type": "code",
   "execution_count": 11,
   "metadata": {},
   "outputs": [],
   "source": [
    "df_covid.rename(columns = {'Country,Other':'Country',\n",
    "                          'Serious,Critical':'Critical'\n",
    "                          },inplace = True)"
   ]
  },
  {
   "cell_type": "code",
   "execution_count": 12,
   "metadata": {},
   "outputs": [
    {
     "data": {
      "text/html": [
       "<div>\n",
       "<style scoped>\n",
       "    .dataframe tbody tr th:only-of-type {\n",
       "        vertical-align: middle;\n",
       "    }\n",
       "\n",
       "    .dataframe tbody tr th {\n",
       "        vertical-align: top;\n",
       "    }\n",
       "\n",
       "    .dataframe thead th {\n",
       "        text-align: right;\n",
       "    }\n",
       "</style>\n",
       "<table border=\"1\" class=\"dataframe\">\n",
       "  <thead>\n",
       "    <tr style=\"text-align: right;\">\n",
       "      <th></th>\n",
       "      <th>Country</th>\n",
       "      <th>TotalCases</th>\n",
       "      <th>NewCases</th>\n",
       "      <th>TotalDeaths</th>\n",
       "      <th>NewDeaths</th>\n",
       "      <th>TotalRecovered</th>\n",
       "      <th>ActiveCases</th>\n",
       "      <th>Critical</th>\n",
       "      <th>Tot Cases/1M pop</th>\n",
       "      <th>Deaths/1M pop</th>\n",
       "      <th>1stcase</th>\n",
       "    </tr>\n",
       "  </thead>\n",
       "  <tbody>\n",
       "    <tr>\n",
       "      <th>0</th>\n",
       "      <td>China</td>\n",
       "      <td>81394</td>\n",
       "      <td>+54</td>\n",
       "      <td>3295.0</td>\n",
       "      <td>+3</td>\n",
       "      <td>74971.0</td>\n",
       "      <td>3128</td>\n",
       "      <td>886.0</td>\n",
       "      <td>57.0</td>\n",
       "      <td>2.0</td>\n",
       "      <td>Jan 10</td>\n",
       "    </tr>\n",
       "    <tr>\n",
       "      <th>1</th>\n",
       "      <td>USA</td>\n",
       "      <td>123578</td>\n",
       "      <td>+19,452</td>\n",
       "      <td>2221.0</td>\n",
       "      <td>+525</td>\n",
       "      <td>3231.0</td>\n",
       "      <td>118126</td>\n",
       "      <td>2666.0</td>\n",
       "      <td>373.0</td>\n",
       "      <td>7.0</td>\n",
       "      <td>Jan 20</td>\n",
       "    </tr>\n",
       "    <tr>\n",
       "      <th>2</th>\n",
       "      <td>Italy</td>\n",
       "      <td>92472</td>\n",
       "      <td>+5,974</td>\n",
       "      <td>10023.0</td>\n",
       "      <td>+889</td>\n",
       "      <td>12384.0</td>\n",
       "      <td>70065</td>\n",
       "      <td>3856.0</td>\n",
       "      <td>1529.0</td>\n",
       "      <td>166.0</td>\n",
       "      <td>Jan 29</td>\n",
       "    </tr>\n",
       "    <tr>\n",
       "      <th>3</th>\n",
       "      <td>Spain</td>\n",
       "      <td>73235</td>\n",
       "      <td>+7,516</td>\n",
       "      <td>5982.0</td>\n",
       "      <td>+844</td>\n",
       "      <td>12285.0</td>\n",
       "      <td>54968</td>\n",
       "      <td>4165.0</td>\n",
       "      <td>1566.0</td>\n",
       "      <td>128.0</td>\n",
       "      <td>Jan 30</td>\n",
       "    </tr>\n",
       "    <tr>\n",
       "      <th>4</th>\n",
       "      <td>Germany</td>\n",
       "      <td>57695</td>\n",
       "      <td>+6,824</td>\n",
       "      <td>433.0</td>\n",
       "      <td>+82</td>\n",
       "      <td>8481.0</td>\n",
       "      <td>48781</td>\n",
       "      <td>1581.0</td>\n",
       "      <td>689.0</td>\n",
       "      <td>5.0</td>\n",
       "      <td>Jan 26</td>\n",
       "    </tr>\n",
       "  </tbody>\n",
       "</table>\n",
       "</div>"
      ],
      "text/plain": [
       "   Country  TotalCases NewCases  TotalDeaths NewDeaths  TotalRecovered  \\\n",
       "0    China       81394      +54       3295.0        +3         74971.0   \n",
       "1      USA      123578  +19,452       2221.0      +525          3231.0   \n",
       "2    Italy       92472   +5,974      10023.0      +889         12384.0   \n",
       "3    Spain       73235   +7,516       5982.0      +844         12285.0   \n",
       "4  Germany       57695   +6,824        433.0       +82          8481.0   \n",
       "\n",
       "   ActiveCases  Critical  Tot Cases/1M pop  Deaths/1M pop 1stcase  \n",
       "0         3128     886.0              57.0            2.0  Jan 10  \n",
       "1       118126    2666.0             373.0            7.0  Jan 20  \n",
       "2        70065    3856.0            1529.0          166.0  Jan 29  \n",
       "3        54968    4165.0            1566.0          128.0  Jan 30  \n",
       "4        48781    1581.0             689.0            5.0  Jan 26  "
      ]
     },
     "execution_count": 12,
     "metadata": {},
     "output_type": "execute_result"
    }
   ],
   "source": [
    "df_covid.head()"
   ]
  },
  {
   "cell_type": "markdown",
   "metadata": {},
   "source": [
    "Total number of countries "
   ]
  },
  {
   "cell_type": "code",
   "execution_count": 13,
   "metadata": {},
   "outputs": [
    {
     "data": {
      "text/plain": [
       "202"
      ]
     },
     "execution_count": 13,
     "metadata": {},
     "output_type": "execute_result"
    }
   ],
   "source": [
    "df_covid.Country.count()"
   ]
  },
  {
   "cell_type": "markdown",
   "metadata": {},
   "source": [
    "Total cases all over the world"
   ]
  },
  {
   "cell_type": "code",
   "execution_count": 14,
   "metadata": {},
   "outputs": [
    {
     "data": {
      "text/plain": [
       "1326158"
      ]
     },
     "execution_count": 14,
     "metadata": {},
     "output_type": "execute_result"
    }
   ],
   "source": [
    "df_covid.TotalCases.sum()"
   ]
  },
  {
   "cell_type": "markdown",
   "metadata": {},
   "source": [
    "Total recover cases all over the world"
   ]
  },
  {
   "cell_type": "code",
   "execution_count": 15,
   "metadata": {},
   "outputs": [
    {
     "data": {
      "text/plain": [
       "282952.0"
      ]
     },
     "execution_count": 15,
     "metadata": {},
     "output_type": "execute_result"
    }
   ],
   "source": [
    "df_covid.TotalRecovered.sum()"
   ]
  },
  {
   "cell_type": "markdown",
   "metadata": {},
   "source": [
    "Total deaths all over world"
   ]
  },
  {
   "cell_type": "code",
   "execution_count": 16,
   "metadata": {},
   "outputs": [
    {
     "data": {
      "text/plain": [
       "61714.0"
      ]
     },
     "execution_count": 16,
     "metadata": {},
     "output_type": "execute_result"
    }
   ],
   "source": [
    "df_covid.TotalDeaths.sum()"
   ]
  },
  {
   "cell_type": "markdown",
   "metadata": {},
   "source": [
    "# COUNTRY VS TOTALDEATH"
   ]
  },
  {
   "cell_type": "code",
   "execution_count": 17,
   "metadata": {},
   "outputs": [],
   "source": [
    "death = df_covid.sort_values(by = 'TotalDeaths', ascending = False).head(30).iloc[1:]"
   ]
  },
  {
   "cell_type": "code",
   "execution_count": 18,
   "metadata": {},
   "outputs": [
    {
     "data": {
      "text/html": [
       "<div>\n",
       "<style scoped>\n",
       "    .dataframe tbody tr th:only-of-type {\n",
       "        vertical-align: middle;\n",
       "    }\n",
       "\n",
       "    .dataframe tbody tr th {\n",
       "        vertical-align: top;\n",
       "    }\n",
       "\n",
       "    .dataframe thead th {\n",
       "        text-align: right;\n",
       "    }\n",
       "</style>\n",
       "<table border=\"1\" class=\"dataframe\">\n",
       "  <thead>\n",
       "    <tr style=\"text-align: right;\">\n",
       "      <th></th>\n",
       "      <th>Country</th>\n",
       "      <th>TotalCases</th>\n",
       "      <th>NewCases</th>\n",
       "      <th>TotalDeaths</th>\n",
       "      <th>NewDeaths</th>\n",
       "      <th>TotalRecovered</th>\n",
       "      <th>ActiveCases</th>\n",
       "      <th>Critical</th>\n",
       "      <th>Tot Cases/1M pop</th>\n",
       "      <th>Deaths/1M pop</th>\n",
       "      <th>1stcase</th>\n",
       "    </tr>\n",
       "  </thead>\n",
       "  <tbody>\n",
       "    <tr>\n",
       "      <th>2</th>\n",
       "      <td>Italy</td>\n",
       "      <td>92472</td>\n",
       "      <td>+5,974</td>\n",
       "      <td>10023.0</td>\n",
       "      <td>+889</td>\n",
       "      <td>12384.0</td>\n",
       "      <td>70065</td>\n",
       "      <td>3856.0</td>\n",
       "      <td>1529.0</td>\n",
       "      <td>166.0</td>\n",
       "      <td>Jan 29</td>\n",
       "    </tr>\n",
       "    <tr>\n",
       "      <th>3</th>\n",
       "      <td>Spain</td>\n",
       "      <td>73235</td>\n",
       "      <td>+7,516</td>\n",
       "      <td>5982.0</td>\n",
       "      <td>+844</td>\n",
       "      <td>12285.0</td>\n",
       "      <td>54968</td>\n",
       "      <td>4165.0</td>\n",
       "      <td>1566.0</td>\n",
       "      <td>128.0</td>\n",
       "      <td>Jan 30</td>\n",
       "    </tr>\n",
       "    <tr>\n",
       "      <th>0</th>\n",
       "      <td>China</td>\n",
       "      <td>81394</td>\n",
       "      <td>+54</td>\n",
       "      <td>3295.0</td>\n",
       "      <td>+3</td>\n",
       "      <td>74971.0</td>\n",
       "      <td>3128</td>\n",
       "      <td>886.0</td>\n",
       "      <td>57.0</td>\n",
       "      <td>2.0</td>\n",
       "      <td>Jan 10</td>\n",
       "    </tr>\n",
       "    <tr>\n",
       "      <th>6</th>\n",
       "      <td>Iran</td>\n",
       "      <td>35408</td>\n",
       "      <td>+3,076</td>\n",
       "      <td>2517.0</td>\n",
       "      <td>+139</td>\n",
       "      <td>11679.0</td>\n",
       "      <td>21212</td>\n",
       "      <td>3206.0</td>\n",
       "      <td>422.0</td>\n",
       "      <td>30.0</td>\n",
       "      <td>Feb 18</td>\n",
       "    </tr>\n",
       "    <tr>\n",
       "      <th>5</th>\n",
       "      <td>France</td>\n",
       "      <td>37575</td>\n",
       "      <td>+4,611</td>\n",
       "      <td>2314.0</td>\n",
       "      <td>+319</td>\n",
       "      <td>5700.0</td>\n",
       "      <td>29561</td>\n",
       "      <td>4273.0</td>\n",
       "      <td>576.0</td>\n",
       "      <td>35.0</td>\n",
       "      <td>Jan 23</td>\n",
       "    </tr>\n",
       "  </tbody>\n",
       "</table>\n",
       "</div>"
      ],
      "text/plain": [
       "  Country  TotalCases NewCases  TotalDeaths NewDeaths  TotalRecovered  \\\n",
       "2   Italy       92472   +5,974      10023.0      +889         12384.0   \n",
       "3   Spain       73235   +7,516       5982.0      +844         12285.0   \n",
       "0   China       81394      +54       3295.0        +3         74971.0   \n",
       "6    Iran       35408   +3,076       2517.0      +139         11679.0   \n",
       "5  France       37575   +4,611       2314.0      +319          5700.0   \n",
       "\n",
       "   ActiveCases  Critical  Tot Cases/1M pop  Deaths/1M pop 1stcase  \n",
       "2        70065    3856.0            1529.0          166.0  Jan 29  \n",
       "3        54968    4165.0            1566.0          128.0  Jan 30  \n",
       "0         3128     886.0              57.0            2.0  Jan 10  \n",
       "6        21212    3206.0             422.0           30.0  Feb 18  \n",
       "5        29561    4273.0             576.0           35.0  Jan 23  "
      ]
     },
     "execution_count": 18,
     "metadata": {},
     "output_type": "execute_result"
    }
   ],
   "source": [
    "death.head()"
   ]
  },
  {
   "cell_type": "code",
   "execution_count": 20,
   "metadata": {},
   "outputs": [
    {
     "data": {
      "image/png": "[encoded data removed]",
      "text/plain": [
       "<Figure size 792x432 with 1 Axes>"
      ]
     },
     "metadata": {
      "needs_background": "light"
     },
     "output_type": "display_data"
    }
   ],
   "source": [
    "plt.figure(figsize=(11,6))\n",
    "plt.plot(death['Country'],death['TotalDeaths'])\n",
    "degree = 80\n",
    "plt.xticks(rotation=degree)\n",
    "plt.legend()\n",
    "plt.xlabel('Country')\n",
    "plt.title('Country vs TotalDeath')\n",
    "plt.annotate(10023, \n",
    "             xy=('Italy', 10023),\n",
    "             xytext = ('Spain',10023),\n",
    "              arrowprops={'arrowstyle': '-|>'},\n",
    "             va = 'center'\n",
    "             ) \n",
    "plt.annotate(5982, \n",
    "             xy=('Spain', 5982),\n",
    "             xytext = ('China', 5982),\n",
    "              arrowprops={'arrowstyle': '-|>'},\n",
    "             va = 'center'\n",
    "             ) \n",
    "plt.annotate(3295, \n",
    "             xy=('China', 3295),\n",
    "             xytext = ('Iran', 3295),\n",
    "              arrowprops={'arrowstyle': '-|>'},\n",
    "             va = 'center'\n",
    "             ) \n",
    "plt.show()"
   ]
  },
  {
   "cell_type": "markdown",
   "metadata": {},
   "source": [
    "# COUNTRY VS TOTALCASES"
   ]
  },
  {
   "cell_type": "code",
   "execution_count": 21,
   "metadata": {},
   "outputs": [],
   "source": [
    "case = df_covid.sort_values(by = 'TotalCases', ascending = False).head(30).iloc[1:]"
   ]
  },
  {
   "cell_type": "code",
   "execution_count": 22,
   "metadata": {},
   "outputs": [
    {
     "data": {
      "image/png": "[encoded data removed]",
      "text/plain": [
       "<Figure size 792x432 with 1 Axes>"
      ]
     },
     "metadata": {
      "needs_background": "light"
     },
     "output_type": "display_data"
    }
   ],
   "source": [
    "plt.figure(figsize=(11,6))\n",
    "plt.plot(case['Country'],case['TotalCases'])\n",
    "degree = 80\n",
    "plt.xticks(rotation=degree)\n",
    "plt.legend()\n",
    "plt.xlabel('Country')\n",
    "plt.annotate(92472, \n",
    "             xy=('Italy', 92472),\n",
    "             xytext = ('China',92472),\n",
    "              arrowprops={'arrowstyle': '-|>'},\n",
    "             va = 'center'\n",
    "             ) \n",
    "plt.annotate(123781, \n",
    "             xy=('USA', 123781),\n",
    "             xytext = ('Italy', 123781),\n",
    "              arrowprops={'arrowstyle': '-|>'},\n",
    "             va = 'center'\n",
    "             ) \n",
    "plt.annotate(81439, \n",
    "             xy=('China', 81439),\n",
    "             xytext = ('Spain', 81439),\n",
    "              arrowprops={'arrowstyle': '-|>'},\n",
    "             va = 'center'\n",
    "             ) \n",
    "plt.show()"
   ]
  },
  {
   "cell_type": "markdown",
   "metadata": {},
   "source": [
    "# COUNTRY VS TOTALRECOVERED"
   ]
  },
  {
   "cell_type": "code",
   "execution_count": 23,
   "metadata": {},
   "outputs": [],
   "source": [
    "recover = df_covid.sort_values(by = 'TotalRecovered', ascending = False).head(30).iloc[1:]"
   ]
  },
  {
   "cell_type": "code",
   "execution_count": 26,
   "metadata": {},
   "outputs": [
    {
     "data": {
      "image/png": "[encoded data removed]",
      "text/plain": [
       "<Figure size 792x432 with 1 Axes>"
      ]
     },
     "metadata": {
      "needs_background": "light"
     },
     "output_type": "display_data"
    }
   ],
   "source": [
    "plt.figure(figsize=(11,6))\n",
    "plt.plot(recover['Country'],recover['TotalRecovered'])\n",
    "degree = 80\n",
    "plt.xticks(rotation=degree)\n",
    "plt.legend()\n",
    "plt.xlabel('Country')\n",
    "plt.title('Country vs TotalRecovered')\n",
    "plt.annotate(12385, \n",
    "             xy=('Spain', 12385),\n",
    "             xytext = ('Iran',12385),\n",
    "              arrowprops={'arrowstyle': '-|>'},\n",
    "             va = 'center'\n",
    "             ) \n",
    "plt.annotate(12384, \n",
    "             xy=('Italy', 12384),\n",
    "             xytext = ('Spain', 16500),\n",
    "              arrowprops={'arrowstyle': '-|>'},\n",
    "             va = 'center'\n",
    "             ) \n",
    "plt.annotate(75448, \n",
    "             xy=('China', 75448),\n",
    "             xytext = ('Italy', 75448),\n",
    "              arrowprops={'arrowstyle': '-|>'},\n",
    "             va = 'center'\n",
    "             ) \n",
    "plt.show()"
   ]
  },
  {
   "cell_type": "code",
   "execution_count": null,
   "metadata": {},
   "outputs": [],
   "source": []
  }
 ],
 "metadata": {
  "kernelspec": {
   "display_name": "Python 3",
   "language": "python",
   "name": "python3"
  },
  "language_info": {
   "codemirror_mode": {
    "name": "ipython",
    "version": 3
   },
   "file_extension": ".py",
   "mimetype": "text/x-python",
   "name": "python",
   "nbconvert_exporter": "python",
   "pygments_lexer": "ipython3",
   "version": "3.7.1"
  }
 },
 "nbformat": 4,
 "nbformat_minor": 2
}
