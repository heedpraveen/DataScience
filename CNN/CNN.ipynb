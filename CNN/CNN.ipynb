{
  "nbformat": 4,
  "nbformat_minor": 0,
  "metadata": {
    "colab": {
      "name": "CNN.ipynb",
      "provenance": [],
      "collapsed_sections": []
    },
    "kernelspec": {
      "name": "python3",
      "display_name": "Python 3"
    },
    "widgets": {
      "application/vnd.jupyter.widget-state+json": {
        "821f58f5d7f044ac97dc0904d77fa444": {
          "model_module": "@jupyter-widgets/controls",
          "model_name": "HBoxModel",
          "state": {
            "_view_name": "HBoxView",
            "_dom_classes": [],
            "_model_name": "HBoxModel",
            "_view_module": "@jupyter-widgets/controls",
            "_model_module_version": "1.5.0",
            "_view_count": null,
            "_view_module_version": "1.5.0",
            "box_style": "",
            "layout": "IPY_MODEL_b7a140a44399464c945c4e980a023536",
            "_model_module": "@jupyter-widgets/controls",
            "children": [
              "IPY_MODEL_3db496b3a4fc46a79f61436182af7722",
              "IPY_MODEL_14a85c28a3e94900a7a0de25e0f1f348"
            ]
          }
        },
        "b7a140a44399464c945c4e980a023536": {
          "model_module": "@jupyter-widgets/base",
          "model_name": "LayoutModel",
          "state": {
            "_view_name": "LayoutView",
            "grid_template_rows": null,
            "right": null,
            "justify_content": null,
            "_view_module": "@jupyter-widgets/base",
            "overflow": null,
            "_model_module_version": "1.2.0",
            "_view_count": null,
            "flex_flow": null,
            "width": null,
            "min_width": null,
            "border": null,
            "align_items": null,
            "bottom": null,
            "_model_module": "@jupyter-widgets/base",
            "top": null,
            "grid_column": null,
            "overflow_y": null,
            "overflow_x": null,
            "grid_auto_flow": null,
            "grid_area": null,
            "grid_template_columns": null,
            "flex": null,
            "_model_name": "LayoutModel",
            "justify_items": null,
            "grid_row": null,
            "max_height": null,
            "align_content": null,
            "visibility": null,
            "align_self": null,
            "height": null,
            "min_height": null,
            "padding": null,
            "grid_auto_rows": null,
            "grid_gap": null,
            "max_width": null,
            "order": null,
            "_view_module_version": "1.2.0",
            "grid_template_areas": null,
            "object_position": null,
            "object_fit": null,
            "grid_auto_columns": null,
            "margin": null,
            "display": null,
            "left": null
          }
        },
        "3db496b3a4fc46a79f61436182af7722": {
          "model_module": "@jupyter-widgets/controls",
          "model_name": "IntProgressModel",
          "state": {
            "_view_name": "ProgressView",
            "style": "IPY_MODEL_543c648e407f4514bd53d6654ffd8747",
            "_dom_classes": [],
            "description": "",
            "_model_name": "IntProgressModel",
            "bar_style": "success",
            "max": 550,
            "_view_module": "@jupyter-widgets/controls",
            "_model_module_version": "1.5.0",
            "value": 550,
            "_view_count": null,
            "_view_module_version": "1.5.0",
            "orientation": "horizontal",
            "min": 0,
            "description_tooltip": null,
            "_model_module": "@jupyter-widgets/controls",
            "layout": "IPY_MODEL_84643390e03e4081b90f1a7cebb53666"
          }
        },
        "14a85c28a3e94900a7a0de25e0f1f348": {
          "model_module": "@jupyter-widgets/controls",
          "model_name": "HTMLModel",
          "state": {
            "_view_name": "HTMLView",
            "style": "IPY_MODEL_753f52438a3f43f3a2000a983eb33b5e",
            "_dom_classes": [],
            "description": "",
            "_model_name": "HTMLModel",
            "placeholder": "​",
            "_view_module": "@jupyter-widgets/controls",
            "_model_module_version": "1.5.0",
            "value": "100% 550/550 [11:17&lt;00:00,  1.27s/it]",
            "_view_count": null,
            "_view_module_version": "1.5.0",
            "description_tooltip": null,
            "_model_module": "@jupyter-widgets/controls",
            "layout": "IPY_MODEL_e2c819a6a9124bbe907b5b1bbac81197"
          }
        },
        "543c648e407f4514bd53d6654ffd8747": {
          "model_module": "@jupyter-widgets/controls",
          "model_name": "ProgressStyleModel",
          "state": {
            "_view_name": "StyleView",
            "_model_name": "ProgressStyleModel",
            "description_width": "",
            "_view_module": "@jupyter-widgets/base",
            "_model_module_version": "1.5.0",
            "_view_count": null,
            "_view_module_version": "1.2.0",
            "bar_color": null,
            "_model_module": "@jupyter-widgets/controls"
          }
        },
        "84643390e03e4081b90f1a7cebb53666": {
          "model_module": "@jupyter-widgets/base",
          "model_name": "LayoutModel",
          "state": {
            "_view_name": "LayoutView",
            "grid_template_rows": null,
            "right": null,
            "justify_content": null,
            "_view_module": "@jupyter-widgets/base",
            "overflow": null,
            "_model_module_version": "1.2.0",
            "_view_count": null,
            "flex_flow": null,
            "width": null,
            "min_width": null,
            "border": null,
            "align_items": null,
            "bottom": null,
            "_model_module": "@jupyter-widgets/base",
            "top": null,
            "grid_column": null,
            "overflow_y": null,
            "overflow_x": null,
            "grid_auto_flow": null,
            "grid_area": null,
            "grid_template_columns": null,
            "flex": null,
            "_model_name": "LayoutModel",
            "justify_items": null,
            "grid_row": null,
            "max_height": null,
            "align_content": null,
            "visibility": null,
            "align_self": null,
            "height": null,
            "min_height": null,
            "padding": null,
            "grid_auto_rows": null,
            "grid_gap": null,
            "max_width": null,
            "order": null,
            "_view_module_version": "1.2.0",
            "grid_template_areas": null,
            "object_position": null,
            "object_fit": null,
            "grid_auto_columns": null,
            "margin": null,
            "display": null,
            "left": null
          }
        },
        "753f52438a3f43f3a2000a983eb33b5e": {
          "model_module": "@jupyter-widgets/controls",
          "model_name": "DescriptionStyleModel",
          "state": {
            "_view_name": "StyleView",
            "_model_name": "DescriptionStyleModel",
            "description_width": "",
            "_view_module": "@jupyter-widgets/base",
            "_model_module_version": "1.5.0",
            "_view_count": null,
            "_view_module_version": "1.2.0",
            "_model_module": "@jupyter-widgets/controls"
          }
        },
        "e2c819a6a9124bbe907b5b1bbac81197": {
          "model_module": "@jupyter-widgets/base",
          "model_name": "LayoutModel",
          "state": {
            "_view_name": "LayoutView",
            "grid_template_rows": null,
            "right": null,
            "justify_content": null,
            "_view_module": "@jupyter-widgets/base",
            "overflow": null,
            "_model_module_version": "1.2.0",
            "_view_count": null,
            "flex_flow": null,
            "width": null,
            "min_width": null,
            "border": null,
            "align_items": null,
            "bottom": null,
            "_model_module": "@jupyter-widgets/base",
            "top": null,
            "grid_column": null,
            "overflow_y": null,
            "overflow_x": null,
            "grid_auto_flow": null,
            "grid_area": null,
            "grid_template_columns": null,
            "flex": null,
            "_model_name": "LayoutModel",
            "justify_items": null,
            "grid_row": null,
            "max_height": null,
            "align_content": null,
            "visibility": null,
            "align_self": null,
            "height": null,
            "min_height": null,
            "padding": null,
            "grid_auto_rows": null,
            "grid_gap": null,
            "max_width": null,
            "order": null,
            "_view_module_version": "1.2.0",
            "grid_template_areas": null,
            "object_position": null,
            "object_fit": null,
            "grid_auto_columns": null,
            "margin": null,
            "display": null,
            "left": null
          }
        },
        "045b6709e2d744a9881e859c90a8e950": {
          "model_module": "@jupyter-widgets/controls",
          "model_name": "HBoxModel",
          "state": {
            "_view_name": "HBoxView",
            "_dom_classes": [],
            "_model_name": "HBoxModel",
            "_view_module": "@jupyter-widgets/controls",
            "_model_module_version": "1.5.0",
            "_view_count": null,
            "_view_module_version": "1.5.0",
            "box_style": "",
            "layout": "IPY_MODEL_7ce594a0564a438fbc076a33f6df72c9",
            "_model_module": "@jupyter-widgets/controls",
            "children": [
              "IPY_MODEL_c62ab06ab70f4308938e34a64e975564",
              "IPY_MODEL_2e2629fd5a434cd1a5701452cace4ae5"
            ]
          }
        },
        "7ce594a0564a438fbc076a33f6df72c9": {
          "model_module": "@jupyter-widgets/base",
          "model_name": "LayoutModel",
          "state": {
            "_view_name": "LayoutView",
            "grid_template_rows": null,
            "right": null,
            "justify_content": null,
            "_view_module": "@jupyter-widgets/base",
            "overflow": null,
            "_model_module_version": "1.2.0",
            "_view_count": null,
            "flex_flow": null,
            "width": null,
            "min_width": null,
            "border": null,
            "align_items": null,
            "bottom": null,
            "_model_module": "@jupyter-widgets/base",
            "top": null,
            "grid_column": null,
            "overflow_y": null,
            "overflow_x": null,
            "grid_auto_flow": null,
            "grid_area": null,
            "grid_template_columns": null,
            "flex": null,
            "_model_name": "LayoutModel",
            "justify_items": null,
            "grid_row": null,
            "max_height": null,
            "align_content": null,
            "visibility": null,
            "align_self": null,
            "height": null,
            "min_height": null,
            "padding": null,
            "grid_auto_rows": null,
            "grid_gap": null,
            "max_width": null,
            "order": null,
            "_view_module_version": "1.2.0",
            "grid_template_areas": null,
            "object_position": null,
            "object_fit": null,
            "grid_auto_columns": null,
            "margin": null,
            "display": null,
            "left": null
          }
        },
        "c62ab06ab70f4308938e34a64e975564": {
          "model_module": "@jupyter-widgets/controls",
          "model_name": "IntProgressModel",
          "state": {
            "_view_name": "ProgressView",
            "style": "IPY_MODEL_f17f8361c70249809b68b9bfcea06c79",
            "_dom_classes": [],
            "description": "",
            "_model_name": "IntProgressModel",
            "bar_style": "success",
            "max": 550,
            "_view_module": "@jupyter-widgets/controls",
            "_model_module_version": "1.5.0",
            "value": 550,
            "_view_count": null,
            "_view_module_version": "1.5.0",
            "orientation": "horizontal",
            "min": 0,
            "description_tooltip": null,
            "_model_module": "@jupyter-widgets/controls",
            "layout": "IPY_MODEL_bd482b65b5a1488d95bebec38d28916d"
          }
        },
        "2e2629fd5a434cd1a5701452cace4ae5": {
          "model_module": "@jupyter-widgets/controls",
          "model_name": "HTMLModel",
          "state": {
            "_view_name": "HTMLView",
            "style": "IPY_MODEL_fd4941cdde624c758685390e752366bc",
            "_dom_classes": [],
            "description": "",
            "_model_name": "HTMLModel",
            "placeholder": "​",
            "_view_module": "@jupyter-widgets/controls",
            "_model_module_version": "1.5.0",
            "value": "100% 550/550 [11:18&lt;00:00,  1.26s/it]",
            "_view_count": null,
            "_view_module_version": "1.5.0",
            "description_tooltip": null,
            "_model_module": "@jupyter-widgets/controls",
            "layout": "IPY_MODEL_2757fa7ee70747c9990eb2673c68644e"
          }
        },
        "f17f8361c70249809b68b9bfcea06c79": {
          "model_module": "@jupyter-widgets/controls",
          "model_name": "ProgressStyleModel",
          "state": {
            "_view_name": "StyleView",
            "_model_name": "ProgressStyleModel",
            "description_width": "",
            "_view_module": "@jupyter-widgets/base",
            "_model_module_version": "1.5.0",
            "_view_count": null,
            "_view_module_version": "1.2.0",
            "bar_color": null,
            "_model_module": "@jupyter-widgets/controls"
          }
        },
        "bd482b65b5a1488d95bebec38d28916d": {
          "model_module": "@jupyter-widgets/base",
          "model_name": "LayoutModel",
          "state": {
            "_view_name": "LayoutView",
            "grid_template_rows": null,
            "right": null,
            "justify_content": null,
            "_view_module": "@jupyter-widgets/base",
            "overflow": null,
            "_model_module_version": "1.2.0",
            "_view_count": null,
            "flex_flow": null,
            "width": null,
            "min_width": null,
            "border": null,
            "align_items": null,
            "bottom": null,
            "_model_module": "@jupyter-widgets/base",
            "top": null,
            "grid_column": null,
            "overflow_y": null,
            "overflow_x": null,
            "grid_auto_flow": null,
            "grid_area": null,
            "grid_template_columns": null,
            "flex": null,
            "_model_name": "LayoutModel",
            "justify_items": null,
            "grid_row": null,
            "max_height": null,
            "align_content": null,
            "visibility": null,
            "align_self": null,
            "height": null,
            "min_height": null,
            "padding": null,
            "grid_auto_rows": null,
            "grid_gap": null,
            "max_width": null,
            "order": null,
            "_view_module_version": "1.2.0",
            "grid_template_areas": null,
            "object_position": null,
            "object_fit": null,
            "grid_auto_columns": null,
            "margin": null,
            "display": null,
            "left": null
          }
        },
        "fd4941cdde624c758685390e752366bc": {
          "model_module": "@jupyter-widgets/controls",
          "model_name": "DescriptionStyleModel",
          "state": {
            "_view_name": "StyleView",
            "_model_name": "DescriptionStyleModel",
            "description_width": "",
            "_view_module": "@jupyter-widgets/base",
            "_model_module_version": "1.5.0",
            "_view_count": null,
            "_view_module_version": "1.2.0",
            "_model_module": "@jupyter-widgets/controls"
          }
        },
        "2757fa7ee70747c9990eb2673c68644e": {
          "model_module": "@jupyter-widgets/base",
          "model_name": "LayoutModel",
          "state": {
            "_view_name": "LayoutView",
            "grid_template_rows": null,
            "right": null,
            "justify_content": null,
            "_view_module": "@jupyter-widgets/base",
            "overflow": null,
            "_model_module_version": "1.2.0",
            "_view_count": null,
            "flex_flow": null,
            "width": null,
            "min_width": null,
            "border": null,
            "align_items": null,
            "bottom": null,
            "_model_module": "@jupyter-widgets/base",
            "top": null,
            "grid_column": null,
            "overflow_y": null,
            "overflow_x": null,
            "grid_auto_flow": null,
            "grid_area": null,
            "grid_template_columns": null,
            "flex": null,
            "_model_name": "LayoutModel",
            "justify_items": null,
            "grid_row": null,
            "max_height": null,
            "align_content": null,
            "visibility": null,
            "align_self": null,
            "height": null,
            "min_height": null,
            "padding": null,
            "grid_auto_rows": null,
            "grid_gap": null,
            "max_width": null,
            "order": null,
            "_view_module_version": "1.2.0",
            "grid_template_areas": null,
            "object_position": null,
            "object_fit": null,
            "grid_auto_columns": null,
            "margin": null,
            "display": null,
            "left": null
          }
        }
      }
    }
  },
  "cells": [
    {
      "cell_type": "code",
      "metadata": {
        "id": "ewcUjbKPxx6O",
        "colab_type": "code",
        "colab": {
          "base_uri": "https://localhost:8080/",
          "height": 576
        },
        "outputId": "5e9fd441-fbe0-4775-df45-c0de4aba8a62"
      },
      "source": [
        "import tensorflow as tf\n",
        "from tensorflow.examples.tutorials.mnist import input_data\n",
        "mnist = input_data.read_data_sets(\"/tmp/data/\", one_hot=True, reshape=False)"
      ],
      "execution_count": 1,
      "outputs": [
        {
          "output_type": "display_data",
          "data": {
            "text/html": [
              "<p style=\"color: red;\">\n",
              "The default version of TensorFlow in Colab will soon switch to TensorFlow 2.x.<br>\n",
              "We recommend you <a href=\"https://www.tensorflow.org/guide/migrate\" target=\"_blank\">upgrade</a> now \n",
              "or ensure your notebook will continue to use TensorFlow 1.x via the <code>%tensorflow_version 1.x</code> magic:\n",
              "<a href=\"https://colab.research.google.com/notebooks/tensorflow_version.ipynb\" target=\"_blank\">more info</a>.</p>\n"
            ],
            "text/plain": [
              "<IPython.core.display.HTML object>"
            ]
          },
          "metadata": {
            "tags": []
          }
        },
        {
          "output_type": "stream",
          "text": [
            "WARNING:tensorflow:From <ipython-input-1-8298d09318d4>:3: read_data_sets (from tensorflow.contrib.learn.python.learn.datasets.mnist) is deprecated and will be removed in a future version.\n",
            "Instructions for updating:\n",
            "Please use alternatives such as official/mnist/dataset.py from tensorflow/models.\n",
            "WARNING:tensorflow:From /usr/local/lib/python3.6/dist-packages/tensorflow_core/contrib/learn/python/learn/datasets/mnist.py:260: maybe_download (from tensorflow.contrib.learn.python.learn.datasets.base) is deprecated and will be removed in a future version.\n",
            "Instructions for updating:\n",
            "Please write your own downloading logic.\n",
            "WARNING:tensorflow:From /usr/local/lib/python3.6/dist-packages/tensorflow_core/contrib/learn/python/learn/datasets/base.py:252: _internal_retry.<locals>.wrap.<locals>.wrapped_fn (from tensorflow.contrib.learn.python.learn.datasets.base) is deprecated and will be removed in a future version.\n",
            "Instructions for updating:\n",
            "Please use urllib or similar directly.\n",
            "Successfully downloaded train-images-idx3-ubyte.gz 9912422 bytes.\n",
            "WARNING:tensorflow:From /usr/local/lib/python3.6/dist-packages/tensorflow_core/contrib/learn/python/learn/datasets/mnist.py:262: extract_images (from tensorflow.contrib.learn.python.learn.datasets.mnist) is deprecated and will be removed in a future version.\n",
            "Instructions for updating:\n",
            "Please use tf.data to implement this functionality.\n",
            "Extracting /tmp/data/train-images-idx3-ubyte.gz\n",
            "Successfully downloaded train-labels-idx1-ubyte.gz 28881 bytes.\n",
            "WARNING:tensorflow:From /usr/local/lib/python3.6/dist-packages/tensorflow_core/contrib/learn/python/learn/datasets/mnist.py:267: extract_labels (from tensorflow.contrib.learn.python.learn.datasets.mnist) is deprecated and will be removed in a future version.\n",
            "Instructions for updating:\n",
            "Please use tf.data to implement this functionality.\n",
            "Extracting /tmp/data/train-labels-idx1-ubyte.gz\n",
            "WARNING:tensorflow:From /usr/local/lib/python3.6/dist-packages/tensorflow_core/contrib/learn/python/learn/datasets/mnist.py:110: dense_to_one_hot (from tensorflow.contrib.learn.python.learn.datasets.mnist) is deprecated and will be removed in a future version.\n",
            "Instructions for updating:\n",
            "Please use tf.one_hot on tensors.\n",
            "Successfully downloaded t10k-images-idx3-ubyte.gz 1648877 bytes.\n",
            "Extracting /tmp/data/t10k-images-idx3-ubyte.gz\n",
            "Successfully downloaded t10k-labels-idx1-ubyte.gz 4542 bytes.\n",
            "Extracting /tmp/data/t10k-labels-idx1-ubyte.gz\n",
            "WARNING:tensorflow:From /usr/local/lib/python3.6/dist-packages/tensorflow_core/contrib/learn/python/learn/datasets/mnist.py:290: DataSet.__init__ (from tensorflow.contrib.learn.python.learn.datasets.mnist) is deprecated and will be removed in a future version.\n",
            "Instructions for updating:\n",
            "Please use alternatives such as official/mnist/dataset.py from tensorflow/models.\n"
          ],
          "name": "stdout"
        }
      ]
    },
    {
      "cell_type": "code",
      "metadata": {
        "id": "r145yviNx6oq",
        "colab_type": "code",
        "colab": {}
      },
      "source": [
        "\n",
        "batch_size = 100"
      ],
      "execution_count": 0,
      "outputs": []
    },
    {
      "cell_type": "code",
      "metadata": {
        "id": "mCd8uMnpyCvh",
        "colab_type": "code",
        "colab": {
          "base_uri": "https://localhost:8080/",
          "height": 34
        },
        "outputId": "c9a50bd4-ca84-4f67-9815-c840a633df51"
      },
      "source": [
        "example_X, example_ys = mnist.train.next_batch(batch_size)\n",
        "example_X[0].shape"
      ],
      "execution_count": 3,
      "outputs": [
        {
          "output_type": "execute_result",
          "data": {
            "text/plain": [
              "(28, 28, 1)"
            ]
          },
          "metadata": {
            "tags": []
          },
          "execution_count": 3
        }
      ]
    },
    {
      "cell_type": "code",
      "metadata": {
        "id": "lcJ1WityyFf5",
        "colab_type": "code",
        "colab": {}
      },
      "source": [
        "session = tf.InteractiveSession()"
      ],
      "execution_count": 0,
      "outputs": []
    },
    {
      "cell_type": "code",
      "metadata": {
        "id": "Vzxo1GpZyIJC",
        "colab_type": "code",
        "colab": {}
      },
      "source": [
        "X = tf.placeholder('float', [batch_size, 28, 28, 1])\n",
        "t = tf.placeholder('float', [batch_size, 10])"
      ],
      "execution_count": 0,
      "outputs": []
    },
    {
      "cell_type": "markdown",
      "metadata": {
        "id": "P-QQA16cyZQb",
        "colab_type": "text"
      },
      "source": [
        "CONVOLUTION LAYER"
      ]
    },
    {
      "cell_type": "code",
      "metadata": {
        "id": "ILSI4JOQySt9",
        "colab_type": "code",
        "colab": {}
      },
      "source": [
        "filter_h, filter_w, filter_c, filter_n = 5, 5, 1, 30"
      ],
      "execution_count": 0,
      "outputs": []
    },
    {
      "cell_type": "code",
      "metadata": {
        "id": "0-pWfwYmycds",
        "colab_type": "code",
        "colab": {}
      },
      "source": [
        "W1 = tf.Variable(tf.random_normal([filter_h, filter_w, filter_c, filter_n], stddev=0.01))\n",
        "b1 = tf.Variable(tf.zeros([filter_n]))"
      ],
      "execution_count": 0,
      "outputs": []
    },
    {
      "cell_type": "code",
      "metadata": {
        "id": "0HyUl1OPyfiI",
        "colab_type": "code",
        "colab": {}
      },
      "source": [
        "def convolution(X, W, b, padding, stride):\n",
        "\n",
        "    n, h, w, c = map(lambda d: d.value, X.get_shape())\n",
        "    filter_h, filter_w, filter_c, filter_n = [d.value for d in W.get_shape()]\n",
        "    \n",
        "    out_h = (h + 2*padding - filter_h)//stride + 1\n",
        "    out_w = (w + 2*padding - filter_w)//stride + 1\n",
        "\n",
        "    X_flat = flatten(X, filter_h, filter_w, filter_c, out_h, out_w, stride, padding)\n",
        "    W_flat = tf.reshape(W, [filter_h*filter_w*filter_c, filter_n])\n",
        "    \n",
        "    z = tf.matmul(X_flat, W_flat) + b     # b: 1 X filter_n\n",
        "    \n",
        "    return tf.transpose(tf.reshape(z, [out_h, out_w, n, filter_n]), [2, 0, 1, 3])"
      ],
      "execution_count": 0,
      "outputs": []
    },
    {
      "cell_type": "code",
      "metadata": {
        "id": "Cxeny-x8ynq3",
        "colab_type": "code",
        "colab": {}
      },
      "source": [
        "\n",
        "def flatten(X, window_h, window_w, window_c, out_h, out_w, stride=1, padding=0):\n",
        "    \n",
        "    X_padded = tf.pad(X, [[0,0], [padding, padding], [padding, padding], [0,0]])\n",
        "\n",
        "    windows = []\n",
        "    for y in range(out_h):\n",
        "        for x in range(out_w):\n",
        "            window = tf.slice(X_padded, [0, y*stride, x*stride, 0], [-1, window_h, window_w, -1])\n",
        "            windows.append(window)\n",
        "    stacked = tf.stack(windows) # shape : [out_h, out_w, n, filter_h, filter_w, c]\n",
        "\n",
        "    return tf.reshape(stacked, [-1, window_c*window_w*window_h])"
      ],
      "execution_count": 0,
      "outputs": []
    },
    {
      "cell_type": "code",
      "metadata": {
        "id": "bP0wTVW2yrlo",
        "colab_type": "code",
        "colab": {
          "base_uri": "https://localhost:8080/",
          "height": 34
        },
        "outputId": "33337f1e-b573-469a-ad58-fd0dbcd83406"
      },
      "source": [
        "conv_layer = convolution(X, W1, b1, padding=2, stride=1)\n",
        "conv_layer"
      ],
      "execution_count": 11,
      "outputs": [
        {
          "output_type": "execute_result",
          "data": {
            "text/plain": [
              "<tf.Tensor 'transpose:0' shape=(100, 28, 28, 30) dtype=float32>"
            ]
          },
          "metadata": {
            "tags": []
          },
          "execution_count": 11
        }
      ]
    },
    {
      "cell_type": "markdown",
      "metadata": {
        "id": "OxBrMDwgyxF5",
        "colab_type": "text"
      },
      "source": [
        "ReLU"
      ]
    },
    {
      "cell_type": "code",
      "metadata": {
        "id": "EePd8GGYyuRN",
        "colab_type": "code",
        "colab": {}
      },
      "source": [
        "def relu(X):\n",
        "    return tf.maximum(X, tf.zeros_like(X))"
      ],
      "execution_count": 0,
      "outputs": []
    },
    {
      "cell_type": "code",
      "metadata": {
        "id": "AuLzj43gy17X",
        "colab_type": "code",
        "colab": {
          "base_uri": "https://localhost:8080/",
          "height": 34
        },
        "outputId": "698adcfe-075e-48e0-c670-4a319abe9d14"
      },
      "source": [
        "conv_activation_layer = relu(conv_layer)\n",
        "conv_activation_layer"
      ],
      "execution_count": 13,
      "outputs": [
        {
          "output_type": "execute_result",
          "data": {
            "text/plain": [
              "<tf.Tensor 'Maximum:0' shape=(100, 28, 28, 30) dtype=float32>"
            ]
          },
          "metadata": {
            "tags": []
          },
          "execution_count": 13
        }
      ]
    },
    {
      "cell_type": "markdown",
      "metadata": {
        "id": "MdA3o6Fdy52d",
        "colab_type": "text"
      },
      "source": [
        "Max Pooling"
      ]
    },
    {
      "cell_type": "code",
      "metadata": {
        "id": "_IncXjFiy4Pe",
        "colab_type": "code",
        "colab": {}
      },
      "source": [
        "def max_pool(X, pool_h, pool_w, padding, stride):    \n",
        "    n, h, w, c = [d.value for d in X.get_shape()]\n",
        "    \n",
        "    out_h = (h + 2*padding - pool_h)//stride + 1\n",
        "    out_w = (w + 2*padding - pool_w)//stride + 1\n",
        "\n",
        "    X_flat = flatten(X, pool_h, pool_w, c, out_h, out_w, stride, padding)\n",
        "\n",
        "    pool = tf.reduce_max(tf.reshape(X_flat, [out_h, out_w, n, pool_h*pool_w, c]), axis=3)\n",
        "    return tf.transpose(pool, [2, 0, 1, 3])"
      ],
      "execution_count": 0,
      "outputs": []
    },
    {
      "cell_type": "code",
      "metadata": {
        "id": "ZhDVzOkMzDFE",
        "colab_type": "code",
        "colab": {
          "base_uri": "https://localhost:8080/",
          "height": 34
        },
        "outputId": "06207811-2dc0-4db4-fb86-a82d135ea989"
      },
      "source": [
        "pooling_layer = max_pool(conv_activation_layer, pool_h=2, pool_w=2, padding=0, stride=2)\n",
        "pooling_layer"
      ],
      "execution_count": 15,
      "outputs": [
        {
          "output_type": "execute_result",
          "data": {
            "text/plain": [
              "<tf.Tensor 'transpose_1:0' shape=(100, 14, 14, 30) dtype=float32>"
            ]
          },
          "metadata": {
            "tags": []
          },
          "execution_count": 15
        }
      ]
    },
    {
      "cell_type": "markdown",
      "metadata": {
        "id": "4IkDMZZyzHY4",
        "colab_type": "text"
      },
      "source": [
        "Affine Layer"
      ]
    },
    {
      "cell_type": "code",
      "metadata": {
        "id": "1rseQ50IzFTH",
        "colab_type": "code",
        "colab": {}
      },
      "source": [
        "batch_size, pool_output_h, pool_output_w, filter_n = [d.value for d in pooling_layer.get_shape()]"
      ],
      "execution_count": 0,
      "outputs": []
    },
    {
      "cell_type": "code",
      "metadata": {
        "id": "jmnadHsbzK6F",
        "colab_type": "code",
        "colab": {}
      },
      "source": [
        "hidden_size = 100"
      ],
      "execution_count": 0,
      "outputs": []
    },
    {
      "cell_type": "code",
      "metadata": {
        "id": "o2FWNsaMzNWi",
        "colab_type": "code",
        "colab": {}
      },
      "source": [
        "W2 = tf.Variable(tf.random_normal([pool_output_h*pool_output_w*filter_n, hidden_size], stddev=0.01))\n",
        "b2 = tf.Variable(tf.zeros([hidden_size]))"
      ],
      "execution_count": 0,
      "outputs": []
    },
    {
      "cell_type": "code",
      "metadata": {
        "id": "ELH_u7OFzQe9",
        "colab_type": "code",
        "colab": {}
      },
      "source": [
        "def affine(X, W, b):\n",
        "    n = X.get_shape()[0].value # number of samples\n",
        "    X_flat = tf.reshape(X, [n, -1])\n",
        "    return tf.matmul(X_flat, W) + b\n"
      ],
      "execution_count": 0,
      "outputs": []
    },
    {
      "cell_type": "code",
      "metadata": {
        "id": "Dith2M5OzS7X",
        "colab_type": "code",
        "colab": {
          "base_uri": "https://localhost:8080/",
          "height": 34
        },
        "outputId": "7365400e-bb6a-4fd3-d73b-24fa665105cf"
      },
      "source": [
        "affine_layer1 = affine(pooling_layer, W2, b2)\n",
        "affine_layer1"
      ],
      "execution_count": 20,
      "outputs": [
        {
          "output_type": "execute_result",
          "data": {
            "text/plain": [
              "<tf.Tensor 'add_1:0' shape=(100, 100) dtype=float32>"
            ]
          },
          "metadata": {
            "tags": []
          },
          "execution_count": 20
        }
      ]
    },
    {
      "cell_type": "code",
      "metadata": {
        "id": "Y6BxxapyzWbH",
        "colab_type": "code",
        "colab": {
          "base_uri": "https://localhost:8080/",
          "height": 374
        },
        "outputId": "59d9fa82-aac0-4431-ec37-79e69a499670"
      },
      "source": [
        "\n",
        "init = tf.global_variables_initializer()\n",
        "init.run()\n",
        "affine_layer1.eval({X:example_X, t:example_ys})[0]"
      ],
      "execution_count": 21,
      "outputs": [
        {
          "output_type": "execute_result",
          "data": {
            "text/plain": [
              "array([ 0.00573266, -0.01146959,  0.0020477 ,  0.00109919, -0.00622499,\n",
              "        0.00235034,  0.01003461, -0.00219972, -0.01139388,  0.00588117,\n",
              "        0.00812068,  0.00526256, -0.02062925,  0.00526467, -0.01278924,\n",
              "        0.00503032, -0.00163147,  0.00863405, -0.00405013,  0.01291035,\n",
              "        0.01808444,  0.00633315, -0.00965838,  0.00377809, -0.00681359,\n",
              "       -0.00620927, -0.00953156, -0.00087223, -0.00648868,  0.01847807,\n",
              "        0.00578953, -0.00160581, -0.01713528,  0.0069445 , -0.01469908,\n",
              "        0.00364548, -0.00194487, -0.00512307, -0.00450582,  0.00250203,\n",
              "       -0.00811481,  0.00950175,  0.01948148,  0.0017098 , -0.00116168,\n",
              "        0.00558827,  0.00165999,  0.00596239, -0.00575297, -0.0041101 ,\n",
              "        0.01807101, -0.02170337,  0.00929432,  0.00289989,  0.01821265,\n",
              "        0.0132655 , -0.00675214, -0.01938745, -0.00025279,  0.00216648,\n",
              "       -0.00108207, -0.00476961, -0.00445348, -0.00372037, -0.00131145,\n",
              "        0.01364032,  0.00605591,  0.00934236, -0.0060331 ,  0.01034562,\n",
              "       -0.01688379,  0.00908229,  0.001419  , -0.00398249,  0.00202955,\n",
              "       -0.01522189,  0.01091131, -0.00800568,  0.00510531, -0.00179777,\n",
              "       -0.01078967,  0.00087573,  0.00251992, -0.00684438,  0.01337176,\n",
              "       -0.0040367 ,  0.00053709,  0.01501995,  0.00409153,  0.00354906,\n",
              "       -0.00072834,  0.01035587,  0.01505469,  0.00025247, -0.00613582,\n",
              "       -0.00480512, -0.00707351,  0.00854682,  0.01940389, -0.00701284],\n",
              "      dtype=float32)"
            ]
          },
          "metadata": {
            "tags": []
          },
          "execution_count": 21
        }
      ]
    },
    {
      "cell_type": "code",
      "metadata": {
        "id": "8q-sZuyZzYYB",
        "colab_type": "code",
        "colab": {
          "base_uri": "https://localhost:8080/",
          "height": 34
        },
        "outputId": "69d08935-27b4-45a4-aebb-91af95a6771c"
      },
      "source": [
        "affine_activation_layer1 = relu(affine_layer1)\n",
        "affine_activation_layer1"
      ],
      "execution_count": 22,
      "outputs": [
        {
          "output_type": "execute_result",
          "data": {
            "text/plain": [
              "<tf.Tensor 'Maximum_1:0' shape=(100, 100) dtype=float32>"
            ]
          },
          "metadata": {
            "tags": []
          },
          "execution_count": 22
        }
      ]
    },
    {
      "cell_type": "code",
      "metadata": {
        "id": "HYsZ1Ra7zbp_",
        "colab_type": "code",
        "colab": {
          "base_uri": "https://localhost:8080/",
          "height": 374
        },
        "outputId": "3b7db03c-4587-460c-d4c0-8f243f58683f"
      },
      "source": [
        "affine_activation_layer1.eval({X:example_X, t:example_ys})[0]"
      ],
      "execution_count": 23,
      "outputs": [
        {
          "output_type": "execute_result",
          "data": {
            "text/plain": [
              "array([0.00573266, 0.        , 0.0020477 , 0.00109919, 0.        ,\n",
              "       0.00235034, 0.01003461, 0.        , 0.        , 0.00588117,\n",
              "       0.00812068, 0.00526256, 0.        , 0.00526467, 0.        ,\n",
              "       0.00503032, 0.        , 0.00863405, 0.        , 0.01291035,\n",
              "       0.01808444, 0.00633315, 0.        , 0.00377809, 0.        ,\n",
              "       0.        , 0.        , 0.        , 0.        , 0.01847807,\n",
              "       0.00578953, 0.        , 0.        , 0.0069445 , 0.        ,\n",
              "       0.00364548, 0.        , 0.        , 0.        , 0.00250203,\n",
              "       0.        , 0.00950175, 0.01948148, 0.0017098 , 0.        ,\n",
              "       0.00558827, 0.00165999, 0.00596239, 0.        , 0.        ,\n",
              "       0.01807101, 0.        , 0.00929432, 0.00289989, 0.01821265,\n",
              "       0.0132655 , 0.        , 0.        , 0.        , 0.00216648,\n",
              "       0.        , 0.        , 0.        , 0.        , 0.        ,\n",
              "       0.01364032, 0.00605591, 0.00934236, 0.        , 0.01034562,\n",
              "       0.        , 0.00908229, 0.001419  , 0.        , 0.00202955,\n",
              "       0.        , 0.01091131, 0.        , 0.00510531, 0.        ,\n",
              "       0.        , 0.00087573, 0.00251992, 0.        , 0.01337176,\n",
              "       0.        , 0.00053709, 0.01501995, 0.00409153, 0.00354906,\n",
              "       0.        , 0.01035587, 0.01505469, 0.00025247, 0.        ,\n",
              "       0.        , 0.        , 0.00854682, 0.01940389, 0.        ],\n",
              "      dtype=float32)"
            ]
          },
          "metadata": {
            "tags": []
          },
          "execution_count": 23
        }
      ]
    },
    {
      "cell_type": "markdown",
      "metadata": {
        "id": "H3hl27bUzf3u",
        "colab_type": "text"
      },
      "source": [
        "Affine Layer2"
      ]
    },
    {
      "cell_type": "code",
      "metadata": {
        "id": "h7-L0Mo8zdel",
        "colab_type": "code",
        "colab": {}
      },
      "source": [
        "output_size = 10"
      ],
      "execution_count": 0,
      "outputs": []
    },
    {
      "cell_type": "code",
      "metadata": {
        "id": "HGSDnES7zjn_",
        "colab_type": "code",
        "colab": {}
      },
      "source": [
        "W3 = tf.Variable(tf.random_normal([hidden_size, output_size], stddev=0.01))\n",
        "b3 = tf.Variable(tf.zeros([output_size]))"
      ],
      "execution_count": 0,
      "outputs": []
    },
    {
      "cell_type": "code",
      "metadata": {
        "id": "zpogKc8kzm7i",
        "colab_type": "code",
        "colab": {}
      },
      "source": [
        "affine_layer2 = affine(affine_activation_layer1, W3, b3)"
      ],
      "execution_count": 0,
      "outputs": []
    },
    {
      "cell_type": "code",
      "metadata": {
        "id": "w0n2M6hxzoxE",
        "colab_type": "code",
        "colab": {}
      },
      "source": [
        "init = tf.global_variables_initializer()\n",
        "init.run()"
      ],
      "execution_count": 0,
      "outputs": []
    },
    {
      "cell_type": "code",
      "metadata": {
        "id": "0w9KiDxNzqvO",
        "colab_type": "code",
        "colab": {
          "base_uri": "https://localhost:8080/",
          "height": 68
        },
        "outputId": "ae012835-9a48-4a58-c325-4d05f3705b20"
      },
      "source": [
        "affine_layer2.eval({X:example_X, t:example_ys})[0]"
      ],
      "execution_count": 28,
      "outputs": [
        {
          "output_type": "execute_result",
          "data": {
            "text/plain": [
              "array([-5.9442432e-04,  1.3376488e-03,  1.9586542e-04, -5.2643161e-05,\n",
              "        3.1402832e-04,  3.3987782e-04,  8.6094008e-04, -1.8518659e-03,\n",
              "        1.7214729e-04, -3.3649011e-04], dtype=float32)"
            ]
          },
          "metadata": {
            "tags": []
          },
          "execution_count": 28
        }
      ]
    },
    {
      "cell_type": "markdown",
      "metadata": {
        "id": "abSjENvpzuX7",
        "colab_type": "text"
      },
      "source": [
        "Softmax"
      ]
    },
    {
      "cell_type": "code",
      "metadata": {
        "id": "cbo-shAMzsvB",
        "colab_type": "code",
        "colab": {}
      },
      "source": [
        "def softmax(X):\n",
        "    X_centered = X - tf.reduce_max(X) # to avoid overflow\n",
        "    X_exp = tf.exp(X_centered)\n",
        "    exp_sum = tf.reduce_sum(X_exp, axis=1)\n",
        "    return tf.transpose(tf.transpose(X_exp) / exp_sum)"
      ],
      "execution_count": 0,
      "outputs": []
    },
    {
      "cell_type": "code",
      "metadata": {
        "id": "n75PlH0Zzy6u",
        "colab_type": "code",
        "colab": {}
      },
      "source": [
        "softmax_layer = softmax(affine_layer2)"
      ],
      "execution_count": 0,
      "outputs": []
    },
    {
      "cell_type": "code",
      "metadata": {
        "id": "aFY9zsm0z03R",
        "colab_type": "code",
        "colab": {
          "base_uri": "https://localhost:8080/",
          "height": 68
        },
        "outputId": "a25471f7-1d19-4392-cff4-9316f9943e47"
      },
      "source": [
        "softmax_layer.eval({X:example_X, t:example_ys})[0]"
      ],
      "execution_count": 31,
      "outputs": [
        {
          "output_type": "execute_result",
          "data": {
            "text/plain": [
              "array([0.09993669, 0.10012997, 0.10001571, 0.09999085, 0.10002753,\n",
              "       0.10003011, 0.10008225, 0.09981111, 0.10001334, 0.09996248],\n",
              "      dtype=float32)"
            ]
          },
          "metadata": {
            "tags": []
          },
          "execution_count": 31
        }
      ]
    },
    {
      "cell_type": "markdown",
      "metadata": {
        "id": "k8_gfF-pz4Ed",
        "colab_type": "text"
      },
      "source": [
        "Cross Entropy Error"
      ]
    },
    {
      "cell_type": "code",
      "metadata": {
        "id": "VDojVqkYz3Lb",
        "colab_type": "code",
        "colab": {}
      },
      "source": [
        "def cross_entropy_error(y, t):\n",
        "    return -tf.reduce_mean(tf.log(tf.reduce_sum(y * t, axis=1)))"
      ],
      "execution_count": 0,
      "outputs": []
    },
    {
      "cell_type": "code",
      "metadata": {
        "id": "yvFgiUNKz_OU",
        "colab_type": "code",
        "colab": {}
      },
      "source": [
        "loss = cross_entropy_error(softmax_layer, t)"
      ],
      "execution_count": 0,
      "outputs": []
    },
    {
      "cell_type": "code",
      "metadata": {
        "id": "dTSYR5F90Cnk",
        "colab_type": "code",
        "colab": {
          "base_uri": "https://localhost:8080/",
          "height": 34
        },
        "outputId": "bd7f3c63-e5a4-490d-a4b5-bcf111f43d3a"
      },
      "source": [
        "loss.eval({X:example_X, t:example_ys})"
      ],
      "execution_count": 34,
      "outputs": [
        {
          "output_type": "execute_result",
          "data": {
            "text/plain": [
              "2.3025923"
            ]
          },
          "metadata": {
            "tags": []
          },
          "execution_count": 34
        }
      ]
    },
    {
      "cell_type": "code",
      "metadata": {
        "id": "Sfj7gHpI0Ffq",
        "colab_type": "code",
        "colab": {
          "base_uri": "https://localhost:8080/",
          "height": 88
        },
        "outputId": "ed6ff2dd-517f-43a0-ff61-1c4120df9150"
      },
      "source": [
        "learning_rate = 0.1\n",
        "trainer = tf.train.GradientDescentOptimizer(learning_rate).minimize(loss)"
      ],
      "execution_count": 35,
      "outputs": [
        {
          "output_type": "stream",
          "text": [
            "WARNING:tensorflow:From /usr/local/lib/python3.6/dist-packages/tensorflow_core/python/ops/math_grad.py:1424: where (from tensorflow.python.ops.array_ops) is deprecated and will be removed in a future version.\n",
            "Instructions for updating:\n",
            "Use tf.where in 2.0, which has the same broadcast rule as np.where\n"
          ],
          "name": "stdout"
        }
      ]
    },
    {
      "cell_type": "code",
      "metadata": {
        "id": "DeOADdTR0Iab",
        "colab_type": "code",
        "colab": {}
      },
      "source": [
        "# number of times to iterate over training data\n",
        "training_epochs = 2"
      ],
      "execution_count": 0,
      "outputs": []
    },
    {
      "cell_type": "code",
      "metadata": {
        "id": "vovg1ac00ORK",
        "colab_type": "code",
        "colab": {
          "base_uri": "https://localhost:8080/",
          "height": 34
        },
        "outputId": "f73b5c81-00c2-4f70-f821-2e8fc253c39d"
      },
      "source": [
        "num_batch = int(mnist.train.num_examples/batch_size)\n",
        "num_batch"
      ],
      "execution_count": 37,
      "outputs": [
        {
          "output_type": "execute_result",
          "data": {
            "text/plain": [
              "550"
            ]
          },
          "metadata": {
            "tags": []
          },
          "execution_count": 37
        }
      ]
    },
    {
      "cell_type": "code",
      "metadata": {
        "id": "Qgqa11oD0R0k",
        "colab_type": "code",
        "colab": {}
      },
      "source": [
        "from tqdm import tqdm_notebook"
      ],
      "execution_count": 0,
      "outputs": []
    },
    {
      "cell_type": "code",
      "metadata": {
        "id": "1xLlnL6X0Trm",
        "colab_type": "code",
        "colab": {
          "base_uri": "https://localhost:8080/",
          "height": 149,
          "referenced_widgets": [
            "821f58f5d7f044ac97dc0904d77fa444",
            "b7a140a44399464c945c4e980a023536",
            "3db496b3a4fc46a79f61436182af7722",
            "14a85c28a3e94900a7a0de25e0f1f348",
            "543c648e407f4514bd53d6654ffd8747",
            "84643390e03e4081b90f1a7cebb53666",
            "753f52438a3f43f3a2000a983eb33b5e",
            "e2c819a6a9124bbe907b5b1bbac81197",
            "045b6709e2d744a9881e859c90a8e950",
            "7ce594a0564a438fbc076a33f6df72c9",
            "c62ab06ab70f4308938e34a64e975564",
            "2e2629fd5a434cd1a5701452cace4ae5",
            "f17f8361c70249809b68b9bfcea06c79",
            "bd482b65b5a1488d95bebec38d28916d",
            "fd4941cdde624c758685390e752366bc",
            "2757fa7ee70747c9990eb2673c68644e"
          ]
        },
        "outputId": "9fafb47b-2e71-47d3-8eb6-1964b49b9b88"
      },
      "source": [
        "for epoch in range(training_epochs):\n",
        "    avg_cost = 0\n",
        "    for _ in tqdm_notebook(range(num_batch)):\n",
        "        train_X, train_ys = mnist.train.next_batch(batch_size)\n",
        "        trainer.run(feed_dict={X:train_X, t:train_ys})\n",
        "        avg_cost += loss.eval(feed_dict={X:train_X, t:train_ys}) / num_batch\n",
        "\n",
        "    print(\"Epoch:\", '%04d' % (epoch+1), \"cost=\", \"{:.9f}\".format(avg_cost), flush=True)"
      ],
      "execution_count": 39,
      "outputs": [
        {
          "output_type": "display_data",
          "data": {
            "application/vnd.jupyter.widget-view+json": {
              "model_id": "821f58f5d7f044ac97dc0904d77fa444",
              "version_minor": 0,
              "version_major": 2
            },
            "text/plain": [
              "HBox(children=(IntProgress(value=0, max=550), HTML(value='')))"
            ]
          },
          "metadata": {
            "tags": []
          }
        },
        {
          "output_type": "stream",
          "text": [
            "\n",
            "Epoch: 0001 cost= 0.770458344\n"
          ],
          "name": "stdout"
        },
        {
          "output_type": "display_data",
          "data": {
            "application/vnd.jupyter.widget-view+json": {
              "model_id": "045b6709e2d744a9881e859c90a8e950",
              "version_minor": 0,
              "version_major": 2
            },
            "text/plain": [
              "HBox(children=(IntProgress(value=0, max=550), HTML(value='')))"
            ]
          },
          "metadata": {
            "tags": []
          }
        },
        {
          "output_type": "stream",
          "text": [
            "\n",
            "Epoch: 0002 cost= 0.108908404\n"
          ],
          "name": "stdout"
        }
      ]
    },
    {
      "cell_type": "code",
      "metadata": {
        "id": "95EjqIHL0aA5",
        "colab_type": "code",
        "colab": {}
      },
      "source": [
        "test_x = mnist.test.images[:batch_size]\n",
        "test_t = mnist.test.labels[:batch_size]"
      ],
      "execution_count": 0,
      "outputs": []
    },
    {
      "cell_type": "code",
      "metadata": {
        "id": "sHso8FUc5qDL",
        "colab_type": "code",
        "colab": {}
      },
      "source": [
        "def accuracy(network, t):\n",
        "    \n",
        "    t_predict = tf.argmax(network, axis=1)\n",
        "    t_actual = tf.argmax(t, axis=1)\n",
        "\n",
        "    return tf.reduce_mean(tf.cast(tf.equal(t_predict, t_actual), tf.float32))"
      ],
      "execution_count": 0,
      "outputs": []
    },
    {
      "cell_type": "code",
      "metadata": {
        "id": "Ldg0360F5vyl",
        "colab_type": "code",
        "colab": {
          "base_uri": "https://localhost:8080/",
          "height": 34
        },
        "outputId": "be24f2a9-f865-4cde-8aaa-6b6ba016bd36"
      },
      "source": [
        "accuracy(softmax_layer, t).eval(feed_dict={X:test_x, t:test_t})"
      ],
      "execution_count": 42,
      "outputs": [
        {
          "output_type": "execute_result",
          "data": {
            "text/plain": [
              "0.98"
            ]
          },
          "metadata": {
            "tags": []
          },
          "execution_count": 42
        }
      ]
    },
    {
      "cell_type": "code",
      "metadata": {
        "id": "l1V5-R9T5x_D",
        "colab_type": "code",
        "colab": {}
      },
      "source": [
        "session.close()"
      ],
      "execution_count": 0,
      "outputs": []
    },
    {
      "cell_type": "code",
      "metadata": {
        "id": "zZkhfQBf55sa",
        "colab_type": "code",
        "colab": {}
      },
      "source": [
        ""
      ],
      "execution_count": 0,
      "outputs": []
    }
  ]
}